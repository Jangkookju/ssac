{
 "cells": [
  {
   "cell_type": "code",
   "execution_count": 1,
   "id": "1c3aa69e",
   "metadata": {},
   "outputs": [],
   "source": [
    "import numpy as np\n",
    "from sklearn.datasets import fetch_20newsgroups\n",
    "\n",
    "from tensorflow.keras.preprocessing.text import Tokenizer\n",
    "from tensorflow.keras.preprocessing.sequence import pad_sequences\n",
    "from keras.utils.np_utils import to_categorical\n",
    "from tensorflow.keras.layers import Dense, Input, Flatten\n",
    "from tensorflow.keras.layers import Conv1D, MaxPooling1D, Embedding, Dropout, Concatenate\n",
    "from tensorflow.keras.models import Model"
   ]
  },
  {
   "cell_type": "code",
   "execution_count": 2,
   "id": "4cc46c9d",
   "metadata": {},
   "outputs": [],
   "source": [
    "# pip install tqdm -> progressbar \n",
    "from tqdm import tqdm"
   ]
  },
  {
   "cell_type": "code",
   "execution_count": 3,
   "id": "b77e15f7",
   "metadata": {},
   "outputs": [
    {
     "name": "stdout",
     "output_type": "stream",
     "text": [
      "['comp.sys.mac.hardware', 'rec.motorcycles', 'sci.electronics']\n",
      "1767\n"
     ]
    }
   ],
   "source": [
    "categories = ['comp.sys.mac.hardware', 'rec.motorcycles', 'sci.electronics']\n",
    "\n",
    "newsgroups_train = fetch_20newsgroups(subset='train', shuffle=True, categories=categories)\n",
    "\n",
    "print(newsgroups_train.target_names)\n",
    "print(len(newsgroups_train.data))"
   ]
  },
  {
   "cell_type": "code",
   "execution_count": 4,
   "id": "92349a01",
   "metadata": {},
   "outputs": [
    {
     "name": "stdout",
     "output_type": "stream",
     "text": [
      "[': |> In article <2514@tekgen.bv.tek.com> davet@interceptor.cds.tek.com (Dave Tharp CDS) writes:', ': |> >In article <1993Apr15.171757.10890@i88.isc.com> jeq@lachman.com (Jonathan E. Quist) writes:', ': |> >>Rolls-Royce owned by a non-British firm?', ': |> >>', ': |> >>Ye Gods, that would be the end of civilization as we know it.']\n"
     ]
    }
   ],
   "source": [
    "# print(newsgroups_train.data[0])\n",
    "print(newsgroups_train.data[0].split(\"\\n\")[10:15])"
   ]
  },
  {
   "cell_type": "code",
   "execution_count": 5,
   "id": "fddd99b7",
   "metadata": {},
   "outputs": [
    {
     "name": "stdout",
     "output_type": "stream",
     "text": [
      "dict_keys(['data', 'filenames', 'target_names', 'target', 'DESCR'])\n"
     ]
    }
   ],
   "source": [
    "print(newsgroups_train.keys())"
   ]
  },
  {
   "cell_type": "code",
   "execution_count": 6,
   "id": "3853cbfa",
   "metadata": {},
   "outputs": [
    {
     "name": "stdout",
     "output_type": "stream",
     "text": [
      "1767\n",
      "1767\n",
      "3\n",
      "1767\n"
     ]
    }
   ],
   "source": [
    "print(len(newsgroups_train.data))\n",
    "print(len(newsgroups_train.filenames))\n",
    "print(len(newsgroups_train.target_names))\n",
    "print(len(newsgroups_train.target))"
   ]
  },
  {
   "cell_type": "code",
   "execution_count": 7,
   "id": "78fd5b64",
   "metadata": {},
   "outputs": [
    {
     "name": "stdout",
     "output_type": "stream",
     "text": [
      "['comp.sys.mac.hardware', 'rec.motorcycles', 'sci.electronics']\n"
     ]
    }
   ],
   "source": [
    "print(newsgroups_train.target_names)"
   ]
  },
  {
   "cell_type": "code",
   "execution_count": 8,
   "id": "60248fa2",
   "metadata": {},
   "outputs": [
    {
     "data": {
      "text/plain": [
       "'From: npet@bnr.ca (Nick Pettefar)\\nSubject: Re: Happy Easter!\\nNntp-Posting-Host: bmdhh299\\nOrganization: BNR Europe Ltd, Maidenhead, UK\\nX-Newsreader: TIN [version 1.1 PL8]\\nLines: 37\\n\\nkevinh, on the Tue, 20 Apr 1993 13:23:01 GMT wibbled:\\n\\n: In article <1993Apr19.154020.24818@i88.isc.com>, jeq@lachman.com (Jonathan E. Quist) writes:\\n: |> In article <2514@tekgen.bv.tek.com> davet@interceptor.cds.tek.com (Dave Tharp CDS) writes:\\n: |> >In article <1993Apr15.171757.10890@i88.isc.com> jeq@lachman.com (Jonathan E. Quist) writes:\\n: |> >>Rolls-Royce owned by a non-British firm?\\n: |> >>\\n: |> >>Ye Gods, that would be the end of civilization as we know it.\\n: |> >\\n: |> >  Why not?  Ford owns Aston-Martin and Jaguar, General Motors owns Lotus\\n: |> >and Vauxhall.  Rover is only owned 20% by Honda.\\n: |> \\n: |> Yes, it\\'s a minor blasphemy that U.S. companies would ?? on the likes of A.M.,\\n: |> Jaguar, or (sob) Lotus.  It\\'s outright sacrilege for RR to have non-British\\n: |> ownership.  It\\'s a fundamental thing\\n\\n\\n: I think there is a legal clause in the RR name, regardless of who owns it\\n: it must be a British company/owner - i.e. BA can sell the company but not\\n: the name.\\n\\n: kevinh@hasler.ascom.ch\\n\\nI don\\'t believe that BA have anything to do with RR.  It\\'s a seperate\\ncompany from the RR Aero-Engine company.  I think that the government\\nown a stake.  Unfortunately they owned a stake of Jaguar too, until\\nthey decided to make a quick buck and sold it to Ford.  Bastards.\\nThis is definitely the ultimate Arthur-Daley government.\\n--\\n\\nNick (the Cynical Biker)   DoD 1069   Concise Oxford   Leaky Gearbox\\n\\nM\\'Lud.\\n                                   \\nNick Pettefar, Contractor@Large.  /~~~\\\\   \"Teneo tuus intervallum\"\\nCuurrently incarcerated at BNR,  {-O^O-}   npet@bnr.ca  \\'86 BMW K100RS \"Kay\"\\nMaidenhead, The United Kingdom.   \\\\ o /    Pres. PBWASOH(UK),  BS 0002\\n'"
      ]
     },
     "execution_count": 8,
     "metadata": {},
     "output_type": "execute_result"
    }
   ],
   "source": [
    "newsgroups_train.data[0]"
   ]
  },
  {
   "cell_type": "code",
   "execution_count": 9,
   "id": "7c2baaae",
   "metadata": {},
   "outputs": [
    {
     "name": "stdout",
     "output_type": "stream",
     "text": [
      "CPU times: user 418 ms, sys: 11.2 ms, total: 429 ms\n",
      "Wall time: 433 ms\n"
     ]
    }
   ],
   "source": [
    "%%time\n",
    "labels = newsgroups_train.target\n",
    "texts = newsgroups_train.data\n",
    "\n",
    "MAX_VOCAB_SIZE = 20000\n",
    "MAX_SEQUENCE_LENGTH = 1000\n",
    "\n",
    "tokenizer = Tokenizer(num_words = MAX_VOCAB_SIZE)\n",
    "tokenizer.fit_on_texts(texts)\n",
    "\n",
    "sequences = tokenizer.texts_to_sequences(texts)"
   ]
  },
  {
   "cell_type": "code",
   "execution_count": 10,
   "id": "730211c3",
   "metadata": {},
   "outputs": [
    {
     "name": "stdout",
     "output_type": "stream",
     "text": [
      "[12, 1265, 270, 70, 769, 1233, 20, 33, 1207, 4237]\n",
      "From: npet@bnr.ca (Nick Pettefar)\n",
      "Subject: Re: Happy Easter!\n",
      "Nntp-Posting-Host: bmdhh299\n",
      "Organization: BNR Europe Ltd, Maidenhead, UK\n",
      "X-Newsreader: TIN [version 1.1 PL8]\n",
      "Lines: 37\n",
      "\n",
      "kevinh, on the Tue, 20 Apr 1993 13:23:01 GMT wibbled:\n",
      "\n",
      ": In article <1993Apr19.154020.24818@i88.isc.com>, jeq@lachman.com (Jonathan E. Quist) writes:\n",
      ": |> In article <2514@tekgen.bv.tek.com> davet@interceptor.cds.tek.com (Dave Tharp CDS) writes:\n",
      ": |> >In article <1993Apr15.171757.10890@i88.isc.com> jeq@lachman.com (Jonathan E. Quist) writes:\n",
      ": |> >>Rolls-Royce owned by a non-British firm?\n",
      ": |> >>\n",
      ": |> >>Ye Gods, that would be the end of civilization as we know it.\n",
      ": |> >\n",
      ": |> >  Why not?  Ford owns Aston-Martin and Jaguar, General Motors owns Lotus\n",
      ": |> >and Vauxhall.  Rover is only owned 20% by Honda.\n",
      ": |> \n",
      ": |> Yes, it's a minor blasphemy that U.S. companies would ?? on the likes of A.M.,\n",
      ": |> Jaguar, or (sob) Lotus.  It's outright sacrilege for RR to have non-British\n",
      ": |> ownership.  It's a fundamental thing\n",
      "\n",
      "\n",
      ": I think there is a legal clause in the RR name, regardless of who owns it\n",
      ": it must be a British company/owner - i.e. BA can sell the company but not\n",
      ": the name.\n",
      "\n",
      ": kevinh@hasler.ascom.ch\n",
      "\n",
      "I don't believe that BA have anything to do with RR.  It's a seperate\n",
      "company from the RR Aero-Engine company.  I think that the government\n",
      "own a stake.  Unfortunately they owned a stake of Jaguar too, until\n",
      "they decided to make a quick buck and sold it to Ford.  Bastards.\n",
      "This is definitely the ultimate Arthur-Daley government.\n",
      "--\n",
      "\n",
      "Nick (the Cynical Biker)   DoD 1069   Concise Oxford   Leaky Gearbox\n",
      "\n",
      "M'Lud.\n",
      "                                   \n",
      "Nick Pettefar, Contractor@Large.  /~~~\\   \"Teneo tuus intervallum\"\n",
      "Cuurrently incarcerated at BNR,  {-O^O-}   npet@bnr.ca  '86 BMW K100RS \"Kay\"\n",
      "Maidenhead, The United Kingdom.   \\ o /    Pres. PBWASOH(UK),  BS 0002\n",
      "\n"
     ]
    }
   ],
   "source": [
    "print(sequences[0][:10])\n",
    "print(texts[0])"
   ]
  },
  {
   "cell_type": "code",
   "execution_count": 11,
   "id": "b9029e25",
   "metadata": {},
   "outputs": [
    {
     "name": "stdout",
     "output_type": "stream",
     "text": [
      "Unique tokens: 25458\n"
     ]
    }
   ],
   "source": [
    "word_index = tokenizer.word_index\n",
    "print(\"Unique tokens:\", len(word_index))"
   ]
  },
  {
   "cell_type": "code",
   "execution_count": 12,
   "id": "f0073fab",
   "metadata": {},
   "outputs": [],
   "source": [
    "data = pad_sequences(sequences, maxlen=MAX_SEQUENCE_LENGTH)"
   ]
  },
  {
   "cell_type": "code",
   "execution_count": 13,
   "id": "571da25c",
   "metadata": {},
   "outputs": [
    {
     "name": "stdout",
     "output_type": "stream",
     "text": [
      "(1767, 1000)\n",
      "[   0    0    0    0    0    0    0    0    0    0    0    0    0    0\n",
      "    0    0    0    0    0   12 1265  270   70  769 1233   20   33 1207\n",
      " 4237   52   47   49 3173   25  270 2009  999 1735  146  107  402  471\n",
      "  238   34   34 1052   21 1390 3928   15]\n"
     ]
    }
   ],
   "source": [
    "print(data.shape)\n",
    "print(data[0][680:730])"
   ]
  },
  {
   "cell_type": "code",
   "execution_count": 14,
   "id": "381ef1cf",
   "metadata": {},
   "outputs": [
    {
     "data": {
      "text/plain": [
       "array([[0., 1., 0.],\n",
       "       [0., 1., 0.],\n",
       "       [1., 0., 0.],\n",
       "       ...,\n",
       "       [0., 0., 1.],\n",
       "       [0., 0., 1.],\n",
       "       [0., 1., 0.]], dtype=float32)"
      ]
     },
     "execution_count": 14,
     "metadata": {},
     "output_type": "execute_result"
    }
   ],
   "source": [
    "labels = to_categorical(np.array(labels))\n",
    "labels"
   ]
  },
  {
   "cell_type": "code",
   "execution_count": 15,
   "id": "d9cea34a",
   "metadata": {},
   "outputs": [
    {
     "name": "stdout",
     "output_type": "stream",
     "text": [
      "Data shape: (1767, 1000)\n",
      "Label shape: (1767, 3)\n"
     ]
    }
   ],
   "source": [
    "print('Data shape:', data.shape)\n",
    "print('Label shape:', labels.shape)"
   ]
  },
  {
   "cell_type": "code",
   "execution_count": 16,
   "id": "27670f51",
   "metadata": {},
   "outputs": [
    {
     "name": "stdout",
     "output_type": "stream",
     "text": [
      "(1414, 1000)\n",
      "(1414, 3)\n",
      "Number of catrgories in traing and validation set \n",
      "[461. 468. 485.]\n",
      "[117. 130. 106.]\n"
     ]
    }
   ],
   "source": [
    "VALIDATION_SPLIT = 0.2\n",
    "\n",
    "indices = np.arange(data.shape[0])\n",
    "np.random.shuffle(indices) \n",
    "data = data[indices] \n",
    "labels = labels[indices] \n",
    "nb_validation_samples = int(VALIDATION_SPLIT * data.shape[0])\n",
    "\n",
    "x_train = data[:-nb_validation_samples] \n",
    "y_train = labels[:-nb_validation_samples] \n",
    "x_val = data[-nb_validation_samples:] \n",
    "y_val = labels[-nb_validation_samples:] \n",
    "\n",
    "print (x_train.shape)\n",
    "print (y_train.shape)\n",
    "\n",
    "print('Number of catrgories in traing and validation set ') \n",
    "print (y_train.sum(axis=0))\n",
    "print (y_val.sum(axis=0))\n"
   ]
  },
  {
   "cell_type": "code",
   "execution_count": 19,
   "id": "4e7fad2f",
   "metadata": {},
   "outputs": [
    {
     "name": "stderr",
     "output_type": "stream",
     "text": [
      "400000it [00:08, 49788.08it/s]"
     ]
    },
    {
     "name": "stdout",
     "output_type": "stream",
     "text": [
      "Words vectors: 400000\n",
      "CPU times: user 7.26 s, sys: 479 ms, total: 7.74 s\n",
      "Wall time: 8.06 s\n"
     ]
    },
    {
     "name": "stderr",
     "output_type": "stream",
     "text": [
      "\n"
     ]
    }
   ],
   "source": [
    "%%time \n",
    "embeddings_index = {}\n",
    "\n",
    "f = open('./dataset/glove.6B.100d.txt')\n",
    "for line in tqdm(f):\n",
    "    values = line.split(' ')\n",
    "    word = values[0] \n",
    "    coefs = np.asarray(values[1:], dtype='float32')\n",
    "    embeddings_index[word] = coefs\n",
    "f.close()\n",
    "\n",
    "print(\"Words vectors:\", len(embeddings_index))"
   ]
  },
  {
   "cell_type": "code",
   "execution_count": 20,
   "id": "b79c1d58",
   "metadata": {},
   "outputs": [],
   "source": [
    "EMBEDDING_DIM = 100"
   ]
  },
  {
   "cell_type": "code",
   "execution_count": 26,
   "id": "74fa0bc3",
   "metadata": {},
   "outputs": [],
   "source": [
    "embedding_matrix = np.random.random( (len(word_index) + 1, EMBEDDING_DIM) )"
   ]
  },
  {
   "cell_type": "code",
   "execution_count": 27,
   "id": "c1b9c6df",
   "metadata": {},
   "outputs": [
    {
     "data": {
      "text/plain": [
       "array([[0.50024465, 0.80388921, 0.5931984 , ..., 0.58787749, 0.93015188,\n",
       "        0.97405285],\n",
       "       [0.00253457, 0.1729329 , 0.45253544, ..., 0.34453786, 0.71583253,\n",
       "        0.72815242],\n",
       "       [0.88704943, 0.96022487, 0.76463734, ..., 0.13395752, 0.64692382,\n",
       "        0.07377387],\n",
       "       ...,\n",
       "       [0.28304469, 0.90273375, 0.1349464 , ..., 0.58143097, 0.86816391,\n",
       "        0.30353272],\n",
       "       [0.63207368, 0.412328  , 0.0576017 , ..., 0.55340145, 0.47612609,\n",
       "        0.57795033],\n",
       "       [0.38626378, 0.71862963, 0.47176804, ..., 0.54557464, 0.15396644,\n",
       "        0.6526379 ]])"
      ]
     },
     "execution_count": 27,
     "metadata": {},
     "output_type": "execute_result"
    }
   ],
   "source": [
    "embedding_matrix"
   ]
  },
  {
   "cell_type": "code",
   "execution_count": 29,
   "id": "8365a0dd",
   "metadata": {},
   "outputs": [
    {
     "name": "stdout",
     "output_type": "stream",
     "text": [
      "(25459, 100)\n"
     ]
    }
   ],
   "source": [
    "for word, i in word_index.items():\n",
    "    # embedding 된 단어를 glove.6B.100d에 존재하는지 검색\n",
    "    embedding_vector = embeddings_index.get(word)\n",
    "    if embedding_vector is not None:\n",
    "        embedding_matrix[i] = embedding_vector # glove.6B.100d의 벡터값을 embedding 단어에 지정\n",
    "\n",
    "print(embedding_matrix.shape)"
   ]
  },
  {
   "cell_type": "code",
   "execution_count": 31,
   "id": "918a5789",
   "metadata": {},
   "outputs": [
    {
     "name": "stdout",
     "output_type": "stream",
     "text": [
      "[0.50024465 0.80388921 0.5931984  0.82773873 0.35177734 0.4331415\n",
      " 0.35163963 0.26012097 0.64284493 0.22444825]\n"
     ]
    }
   ],
   "source": [
    "print(embedding_matrix[0][:10])"
   ]
  },
  {
   "cell_type": "code",
   "execution_count": 32,
   "id": "514b5557",
   "metadata": {},
   "outputs": [
    {
     "name": "stderr",
     "output_type": "stream",
     "text": [
      "2022-03-23 14:01:06.293892: I tensorflow/core/platform/cpu_feature_guard.cc:151] This TensorFlow binary is optimized with oneAPI Deep Neural Network Library (oneDNN) to use the following CPU instructions in performance-critical operations:  AVX2 AVX512F FMA\n",
      "To enable them in other operations, rebuild TensorFlow with the appropriate compiler flags.\n"
     ]
    }
   ],
   "source": [
    "# Generate a model\n",
    "embedding_layer = Embedding(len(word_index) + 1, EMBEDDING_DIM,\n",
    "                           weights=[embedding_matrix],\n",
    "                           input_length=MAX_SEQUENCE_LENGTH,\n",
    "                           trainable=False)\n",
    "\n",
    "sequence_input = Input(shape=(MAX_SEQUENCE_LENGTH,), dtype='int32')\n",
    "embedded_sequences = embedding_layer(sequence_input)"
   ]
  },
  {
   "cell_type": "code",
   "execution_count": null,
   "id": "93db8568",
   "metadata": {},
   "outputs": [],
   "source": []
  }
 ],
 "metadata": {
  "kernelspec": {
   "display_name": "Python 3 (ipykernel)",
   "language": "python",
   "name": "python3"
  },
  "language_info": {
   "codemirror_mode": {
    "name": "ipython",
    "version": 3
   },
   "file_extension": ".py",
   "mimetype": "text/x-python",
   "name": "python",
   "nbconvert_exporter": "python",
   "pygments_lexer": "ipython3",
   "version": "3.8.12"
  }
 },
 "nbformat": 4,
 "nbformat_minor": 5
}
