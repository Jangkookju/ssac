{
 "cells": [
  {
   "cell_type": "code",
   "execution_count": 1,
   "id": "1c3aa69e",
   "metadata": {},
   "outputs": [],
   "source": [
    "import numpy as np\n",
    "from sklearn.datasets import fetch_20newsgroups\n",
    "\n",
    "from tensorflow.keras.preprocessing.text import Tokenizer\n",
    "from tensorflow.keras.preprocessing.sequence import pad_sequences\n",
    "from keras.utils.np_utils import to_categorical\n",
    "from tensorflow.keras.layers import Dense, Input, Flatten\n",
    "from tensorflow.keras.layers import Conv1D, MaxPooling1D, Embedding, Dropout, Concatenate\n",
    "from tensorflow.keras.models import Model"
   ]
  },
  {
   "cell_type": "code",
   "execution_count": 2,
   "id": "4cc46c9d",
   "metadata": {},
   "outputs": [],
   "source": [
    "# pip install tqdm -> progressbar \n",
    "from tqdm import tqdm"
   ]
  },
  {
   "cell_type": "code",
   "execution_count": 3,
   "id": "b77e15f7",
   "metadata": {},
   "outputs": [
    {
     "name": "stdout",
     "output_type": "stream",
     "text": [
      "['comp.sys.mac.hardware', 'rec.motorcycles', 'sci.electronics']\n",
      "1767\n"
     ]
    }
   ],
   "source": [
    "categories = ['comp.sys.mac.hardware', 'rec.motorcycles', 'sci.electronics']\n",
    "\n",
    "newsgroups_train = fetch_20newsgroups(subset='train', shuffle=True, categories=categories)\n",
    "\n",
    "print(newsgroups_train.target_names)\n",
    "print(len(newsgroups_train.data))"
   ]
  },
  {
   "cell_type": "code",
   "execution_count": 4,
   "id": "92349a01",
   "metadata": {},
   "outputs": [
    {
     "name": "stdout",
     "output_type": "stream",
     "text": [
      "[': |> In article <2514@tekgen.bv.tek.com> davet@interceptor.cds.tek.com (Dave Tharp CDS) writes:', ': |> >In article <1993Apr15.171757.10890@i88.isc.com> jeq@lachman.com (Jonathan E. Quist) writes:', ': |> >>Rolls-Royce owned by a non-British firm?', ': |> >>', ': |> >>Ye Gods, that would be the end of civilization as we know it.']\n"
     ]
    }
   ],
   "source": [
    "# print(newsgroups_train.data[0])\n",
    "print(newsgroups_train.data[0].split(\"\\n\")[10:15])"
   ]
  },
  {
   "cell_type": "code",
   "execution_count": 5,
   "id": "fddd99b7",
   "metadata": {},
   "outputs": [
    {
     "name": "stdout",
     "output_type": "stream",
     "text": [
      "dict_keys(['data', 'filenames', 'target_names', 'target', 'DESCR'])\n"
     ]
    }
   ],
   "source": [
    "print(newsgroups_train.keys())"
   ]
  },
  {
   "cell_type": "code",
   "execution_count": 6,
   "id": "3853cbfa",
   "metadata": {},
   "outputs": [
    {
     "name": "stdout",
     "output_type": "stream",
     "text": [
      "1767\n",
      "1767\n",
      "3\n",
      "1767\n"
     ]
    }
   ],
   "source": [
    "print(len(newsgroups_train.data))\n",
    "print(len(newsgroups_train.filenames))\n",
    "print(len(newsgroups_train.target_names))\n",
    "print(len(newsgroups_train.target))"
   ]
  },
  {
   "cell_type": "code",
   "execution_count": 7,
   "id": "35d008f5",
   "metadata": {},
   "outputs": [
    {
     "name": "stdout",
     "output_type": "stream",
     "text": [
      "['comp.sys.mac.hardware', 'rec.motorcycles', 'sci.electronics']\n"
     ]
    }
   ],
   "source": [
    "print(newsgroups_train.target_names)"
   ]
  },
  {
   "cell_type": "code",
   "execution_count": 8,
   "id": "2f51e07b",
   "metadata": {},
   "outputs": [
    {
     "data": {
      "text/plain": [
       "'From: npet@bnr.ca (Nick Pettefar)\\nSubject: Re: Happy Easter!\\nNntp-Posting-Host: bmdhh299\\nOrganization: BNR Europe Ltd, Maidenhead, UK\\nX-Newsreader: TIN [version 1.1 PL8]\\nLines: 37\\n\\nkevinh, on the Tue, 20 Apr 1993 13:23:01 GMT wibbled:\\n\\n: In article <1993Apr19.154020.24818@i88.isc.com>, jeq@lachman.com (Jonathan E. Quist) writes:\\n: |> In article <2514@tekgen.bv.tek.com> davet@interceptor.cds.tek.com (Dave Tharp CDS) writes:\\n: |> >In article <1993Apr15.171757.10890@i88.isc.com> jeq@lachman.com (Jonathan E. Quist) writes:\\n: |> >>Rolls-Royce owned by a non-British firm?\\n: |> >>\\n: |> >>Ye Gods, that would be the end of civilization as we know it.\\n: |> >\\n: |> >  Why not?  Ford owns Aston-Martin and Jaguar, General Motors owns Lotus\\n: |> >and Vauxhall.  Rover is only owned 20% by Honda.\\n: |> \\n: |> Yes, it\\'s a minor blasphemy that U.S. companies would ?? on the likes of A.M.,\\n: |> Jaguar, or (sob) Lotus.  It\\'s outright sacrilege for RR to have non-British\\n: |> ownership.  It\\'s a fundamental thing\\n\\n\\n: I think there is a legal clause in the RR name, regardless of who owns it\\n: it must be a British company/owner - i.e. BA can sell the company but not\\n: the name.\\n\\n: kevinh@hasler.ascom.ch\\n\\nI don\\'t believe that BA have anything to do with RR.  It\\'s a seperate\\ncompany from the RR Aero-Engine company.  I think that the government\\nown a stake.  Unfortunately they owned a stake of Jaguar too, until\\nthey decided to make a quick buck and sold it to Ford.  Bastards.\\nThis is definitely the ultimate Arthur-Daley government.\\n--\\n\\nNick (the Cynical Biker)   DoD 1069   Concise Oxford   Leaky Gearbox\\n\\nM\\'Lud.\\n                                   \\nNick Pettefar, Contractor@Large.  /~~~\\\\   \"Teneo tuus intervallum\"\\nCuurrently incarcerated at BNR,  {-O^O-}   npet@bnr.ca  \\'86 BMW K100RS \"Kay\"\\nMaidenhead, The United Kingdom.   \\\\ o /    Pres. PBWASOH(UK),  BS 0002\\n'"
      ]
     },
     "execution_count": 8,
     "metadata": {},
     "output_type": "execute_result"
    }
   ],
   "source": [
    "newsgroups_train.data[0]"
   ]
  },
  {
   "cell_type": "code",
   "execution_count": 9,
   "id": "a6891679",
   "metadata": {},
   "outputs": [
    {
     "name": "stdout",
     "output_type": "stream",
     "text": [
      "CPU times: user 408 ms, sys: 9.31 ms, total: 417 ms\n",
      "Wall time: 422 ms\n"
     ]
    }
   ],
   "source": [
    "%%time\n",
    "labels = newsgroups_train.target\n",
    "texts = newsgroups_train.data\n",
    "\n",
    "MAX_VOCAB_SIZE = 20000\n",
    "MAX_SEQUENCE_LENGTH = 1000\n",
    "\n",
    "tokenizer = Tokenizer(num_words = MAX_VOCAB_SIZE)\n",
    "tokenizer.fit_on_texts(texts)\n",
    "\n",
    "sequences = tokenizer.texts_to_sequences(texts)"
   ]
  },
  {
   "cell_type": "code",
   "execution_count": 10,
   "id": "831c975a",
   "metadata": {},
   "outputs": [
    {
     "name": "stdout",
     "output_type": "stream",
     "text": [
      "[12, 1265, 270, 70, 769, 1233, 20, 33, 1207, 4237]\n",
      "From: npet@bnr.ca (Nick Pettefar)\n",
      "Subject: Re: Happy Easter!\n",
      "Nntp-Posting-Host: bmdhh299\n",
      "Organization: BNR Europe Ltd, Maidenhead, UK\n",
      "X-Newsreader: TIN [version 1.1 PL8]\n",
      "Lines: 37\n",
      "\n",
      "kevinh, on the Tue, 20 Apr 1993 13:23:01 GMT wibbled:\n",
      "\n",
      ": In article <1993Apr19.154020.24818@i88.isc.com>, jeq@lachman.com (Jonathan E. Quist) writes:\n",
      ": |> In article <2514@tekgen.bv.tek.com> davet@interceptor.cds.tek.com (Dave Tharp CDS) writes:\n",
      ": |> >In article <1993Apr15.171757.10890@i88.isc.com> jeq@lachman.com (Jonathan E. Quist) writes:\n",
      ": |> >>Rolls-Royce owned by a non-British firm?\n",
      ": |> >>\n",
      ": |> >>Ye Gods, that would be the end of civilization as we know it.\n",
      ": |> >\n",
      ": |> >  Why not?  Ford owns Aston-Martin and Jaguar, General Motors owns Lotus\n",
      ": |> >and Vauxhall.  Rover is only owned 20% by Honda.\n",
      ": |> \n",
      ": |> Yes, it's a minor blasphemy that U.S. companies would ?? on the likes of A.M.,\n",
      ": |> Jaguar, or (sob) Lotus.  It's outright sacrilege for RR to have non-British\n",
      ": |> ownership.  It's a fundamental thing\n",
      "\n",
      "\n",
      ": I think there is a legal clause in the RR name, regardless of who owns it\n",
      ": it must be a British company/owner - i.e. BA can sell the company but not\n",
      ": the name.\n",
      "\n",
      ": kevinh@hasler.ascom.ch\n",
      "\n",
      "I don't believe that BA have anything to do with RR.  It's a seperate\n",
      "company from the RR Aero-Engine company.  I think that the government\n",
      "own a stake.  Unfortunately they owned a stake of Jaguar too, until\n",
      "they decided to make a quick buck and sold it to Ford.  Bastards.\n",
      "This is definitely the ultimate Arthur-Daley government.\n",
      "--\n",
      "\n",
      "Nick (the Cynical Biker)   DoD 1069   Concise Oxford   Leaky Gearbox\n",
      "\n",
      "M'Lud.\n",
      "                                   \n",
      "Nick Pettefar, Contractor@Large.  /~~~\\   \"Teneo tuus intervallum\"\n",
      "Cuurrently incarcerated at BNR,  {-O^O-}   npet@bnr.ca  '86 BMW K100RS \"Kay\"\n",
      "Maidenhead, The United Kingdom.   \\ o /    Pres. PBWASOH(UK),  BS 0002\n",
      "\n"
     ]
    }
   ],
   "source": [
    "print(sequences[0][:10])\n",
    "print(texts[0])"
   ]
  },
  {
   "cell_type": "code",
   "execution_count": 11,
   "id": "cbe8c98b",
   "metadata": {},
   "outputs": [
    {
     "name": "stdout",
     "output_type": "stream",
     "text": [
      "Unique tokens: 25458\n"
     ]
    }
   ],
   "source": [
    "word_index = tokenizer.word_index\n",
    "print(\"Unique tokens:\", len(word_index))"
   ]
  },
  {
   "cell_type": "code",
   "execution_count": 12,
   "id": "b7c804a4",
   "metadata": {},
   "outputs": [],
   "source": [
    "data = pad_sequences(sequences, maxlen=MAX_SEQUENCE_LENGTH)"
   ]
  },
  {
   "cell_type": "code",
   "execution_count": 25,
   "id": "a8b30888",
   "metadata": {},
   "outputs": [
    {
     "name": "stdout",
     "output_type": "stream",
     "text": [
      "(1767, 1000)\n",
      "[   0    0    0    0    0    0    0    0    0    0    0    0    0    0\n",
      "    0    0    0    0    0   12 1265  270   70  769 1233   20   33 1207\n",
      " 4237   52   47   49 3173   25  270 2009  999 1735  146  107  402  471\n",
      "  238   34   34 1052   21 1390 3928   15]\n"
     ]
    }
   ],
   "source": [
    "print(data.shape)\n",
    "print(data[0][680:730])"
   ]
  },
  {
   "cell_type": "code",
   "execution_count": 15,
   "id": "dc89f42c",
   "metadata": {},
   "outputs": [
    {
     "data": {
      "text/plain": [
       "array([[0., 1., 0.],\n",
       "       [0., 1., 0.],\n",
       "       [1., 0., 0.],\n",
       "       ...,\n",
       "       [0., 0., 1.],\n",
       "       [0., 0., 1.],\n",
       "       [0., 1., 0.]], dtype=float32)"
      ]
     },
     "execution_count": 15,
     "metadata": {},
     "output_type": "execute_result"
    }
   ],
   "source": [
    "labels = to_categorical(np.array(labels))\n",
    "labels"
   ]
  },
  {
   "cell_type": "code",
   "execution_count": 16,
   "id": "92dee74d",
   "metadata": {},
   "outputs": [
    {
     "name": "stdout",
     "output_type": "stream",
     "text": [
      "Data shape: (1767, 1000)\n",
      "Label shape: (1767, 3)\n"
     ]
    }
   ],
   "source": [
    "print('Data shape:', data.shape)\n",
    "print('Label shape:', labels.shape)"
   ]
  },
  {
   "cell_type": "code",
   "execution_count": 50,
   "id": "aac4f383",
   "metadata": {},
   "outputs": [
    {
     "name": "stdout",
     "output_type": "stream",
     "text": [
      "(1414, 1000)\n",
      "(1414, 3)\n",
      "Number of catrgories in traing and validation set \n",
      "[460. 478. 476.]\n",
      "[118. 120. 115.]\n"
     ]
    }
   ],
   "source": [
    "VALIDATION_SPLIT = 0.2\n",
    "\n",
    "indices = np.arange(data.shape[0])\n",
    "np.random.shuffle(indices) \n",
    "data = data[indices] \n",
    "labels = labels[indices] \n",
    "nb_validation_samples = int(VALIDATION_SPLIT * data.shape[0])\n",
    "\n",
    "x_train = data[:-nb_validation_samples] \n",
    "y_train = labels[:-nb_validation_samples] \n",
    "x_val = data[-nb_validation_samples:] \n",
    "y_val = labels[-nb_validation_samples:] \n",
    "\n",
    "print (x_train.shape)\n",
    "print (y_train.shape)\n",
    "\n",
    "print('Number of catrgories in traing and validation set ') \n",
    "print (y_train.sum(axis=0))\n",
    "print (y_val.sum(axis=0))\n"
   ]
  },
  {
   "cell_type": "code",
   "execution_count": null,
   "id": "d74fe67b",
   "metadata": {},
   "outputs": [],
   "source": []
  },
  {
   "cell_type": "code",
   "execution_count": null,
   "id": "f3ccd6a3",
   "metadata": {},
   "outputs": [],
   "source": []
  },
  {
   "cell_type": "code",
   "execution_count": null,
   "id": "ba03d30f",
   "metadata": {},
   "outputs": [],
   "source": []
  },
  {
   "cell_type": "code",
   "execution_count": null,
   "id": "46e59a6c",
   "metadata": {},
   "outputs": [],
   "source": []
  },
  {
   "cell_type": "code",
   "execution_count": null,
   "id": "2d07f55e",
   "metadata": {},
   "outputs": [],
   "source": []
  },
  {
   "cell_type": "code",
   "execution_count": null,
   "id": "580acd9d",
   "metadata": {},
   "outputs": [],
   "source": []
  },
  {
   "cell_type": "code",
   "execution_count": null,
   "id": "f4439ff8",
   "metadata": {},
   "outputs": [],
   "source": []
  },
  {
   "cell_type": "code",
   "execution_count": null,
   "id": "5a672845",
   "metadata": {},
   "outputs": [],
   "source": []
  },
  {
   "cell_type": "code",
   "execution_count": null,
   "id": "f1bd2a3d",
   "metadata": {},
   "outputs": [],
   "source": []
  }
 ],
 "metadata": {
  "kernelspec": {
   "display_name": "Python 3 (ipykernel)",
   "language": "python",
   "name": "python3"
  },
  "language_info": {
   "codemirror_mode": {
    "name": "ipython",
    "version": 3
   },
   "file_extension": ".py",
   "mimetype": "text/x-python",
   "name": "python",
   "nbconvert_exporter": "python",
   "pygments_lexer": "ipython3",
   "version": "3.8.12"
  }
 },
 "nbformat": 4,
 "nbformat_minor": 5
}
