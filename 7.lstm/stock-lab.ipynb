{
 "cells": [
  {
   "cell_type": "code",
   "execution_count": 1,
   "metadata": {
    "colab": {},
    "colab_type": "code",
    "id": "HyVGJx6wQwOR"
   },
   "outputs": [],
   "source": [
    "from tensorflow.keras.layers import Input, SimpleRNN, GRU, LSTM, Dense, GlobalMaxPool1D\n",
    "from tensorflow.keras.models import Model\n",
    "from tensorflow.keras.optimizers import SGD, Adam\n",
    "\n",
    "import numpy as np\n",
    "import pandas as pd\n",
    "import matplotlib.pyplot as plt\n",
    "from sklearn.preprocessing import StandardScaler"
   ]
  },
  {
   "cell_type": "code",
   "execution_count": 2,
   "metadata": {
    "colab": {
     "base_uri": "https://localhost:8080/",
     "height": 204
    },
    "colab_type": "code",
    "id": "mip90i1wU-Q7",
    "outputId": "57a0c5e4-0a1a-4bd4-eaec-e5c105de873f"
   },
   "outputs": [
    {
     "data": {
      "text/html": [
       "<div>\n",
       "<style scoped>\n",
       "    .dataframe tbody tr th:only-of-type {\n",
       "        vertical-align: middle;\n",
       "    }\n",
       "\n",
       "    .dataframe tbody tr th {\n",
       "        vertical-align: top;\n",
       "    }\n",
       "\n",
       "    .dataframe thead th {\n",
       "        text-align: right;\n",
       "    }\n",
       "</style>\n",
       "<table border=\"1\" class=\"dataframe\">\n",
       "  <thead>\n",
       "    <tr style=\"text-align: right;\">\n",
       "      <th></th>\n",
       "      <th>date</th>\n",
       "      <th>open</th>\n",
       "      <th>high</th>\n",
       "      <th>low</th>\n",
       "      <th>close</th>\n",
       "      <th>volume</th>\n",
       "      <th>Name</th>\n",
       "    </tr>\n",
       "  </thead>\n",
       "  <tbody>\n",
       "    <tr>\n",
       "      <th>0</th>\n",
       "      <td>2013-02-08</td>\n",
       "      <td>27.920</td>\n",
       "      <td>28.325</td>\n",
       "      <td>27.920</td>\n",
       "      <td>28.185</td>\n",
       "      <td>7146296</td>\n",
       "      <td>SBUX</td>\n",
       "    </tr>\n",
       "    <tr>\n",
       "      <th>1</th>\n",
       "      <td>2013-02-11</td>\n",
       "      <td>28.260</td>\n",
       "      <td>28.260</td>\n",
       "      <td>27.930</td>\n",
       "      <td>28.070</td>\n",
       "      <td>5457354</td>\n",
       "      <td>SBUX</td>\n",
       "    </tr>\n",
       "    <tr>\n",
       "      <th>2</th>\n",
       "      <td>2013-02-12</td>\n",
       "      <td>28.000</td>\n",
       "      <td>28.275</td>\n",
       "      <td>27.975</td>\n",
       "      <td>28.130</td>\n",
       "      <td>8665592</td>\n",
       "      <td>SBUX</td>\n",
       "    </tr>\n",
       "    <tr>\n",
       "      <th>3</th>\n",
       "      <td>2013-02-13</td>\n",
       "      <td>28.230</td>\n",
       "      <td>28.230</td>\n",
       "      <td>27.750</td>\n",
       "      <td>27.915</td>\n",
       "      <td>7022056</td>\n",
       "      <td>SBUX</td>\n",
       "    </tr>\n",
       "    <tr>\n",
       "      <th>4</th>\n",
       "      <td>2013-02-14</td>\n",
       "      <td>27.765</td>\n",
       "      <td>27.905</td>\n",
       "      <td>27.675</td>\n",
       "      <td>27.775</td>\n",
       "      <td>8899188</td>\n",
       "      <td>SBUX</td>\n",
       "    </tr>\n",
       "  </tbody>\n",
       "</table>\n",
       "</div>"
      ],
      "text/plain": [
       "         date    open    high     low   close   volume  Name\n",
       "0  2013-02-08  27.920  28.325  27.920  28.185  7146296  SBUX\n",
       "1  2013-02-11  28.260  28.260  27.930  28.070  5457354  SBUX\n",
       "2  2013-02-12  28.000  28.275  27.975  28.130  8665592  SBUX\n",
       "3  2013-02-13  28.230  28.230  27.750  27.915  7022056  SBUX\n",
       "4  2013-02-14  27.765  27.905  27.675  27.775  8899188  SBUX"
      ]
     },
     "execution_count": 2,
     "metadata": {},
     "output_type": "execute_result"
    }
   ],
   "source": [
    "df = pd.read_csv('sbux.csv')\n",
    "df.head()"
   ]
  },
  {
   "cell_type": "code",
   "execution_count": 3,
   "metadata": {
    "colab": {
     "base_uri": "https://localhost:8080/",
     "height": 204
    },
    "colab_type": "code",
    "id": "lF-f342-VXFh",
    "outputId": "436edb9d-8c4c-4592-c99c-8ecedd8d8ab2"
   },
   "outputs": [
    {
     "data": {
      "text/html": [
       "<div>\n",
       "<style scoped>\n",
       "    .dataframe tbody tr th:only-of-type {\n",
       "        vertical-align: middle;\n",
       "    }\n",
       "\n",
       "    .dataframe tbody tr th {\n",
       "        vertical-align: top;\n",
       "    }\n",
       "\n",
       "    .dataframe thead th {\n",
       "        text-align: right;\n",
       "    }\n",
       "</style>\n",
       "<table border=\"1\" class=\"dataframe\">\n",
       "  <thead>\n",
       "    <tr style=\"text-align: right;\">\n",
       "      <th></th>\n",
       "      <th>date</th>\n",
       "      <th>open</th>\n",
       "      <th>high</th>\n",
       "      <th>low</th>\n",
       "      <th>close</th>\n",
       "      <th>volume</th>\n",
       "      <th>Name</th>\n",
       "    </tr>\n",
       "  </thead>\n",
       "  <tbody>\n",
       "    <tr>\n",
       "      <th>1254</th>\n",
       "      <td>2018-02-01</td>\n",
       "      <td>56.280</td>\n",
       "      <td>56.42</td>\n",
       "      <td>55.89</td>\n",
       "      <td>56.00</td>\n",
       "      <td>14690146</td>\n",
       "      <td>SBUX</td>\n",
       "    </tr>\n",
       "    <tr>\n",
       "      <th>1255</th>\n",
       "      <td>2018-02-02</td>\n",
       "      <td>55.900</td>\n",
       "      <td>56.32</td>\n",
       "      <td>55.70</td>\n",
       "      <td>55.77</td>\n",
       "      <td>15358909</td>\n",
       "      <td>SBUX</td>\n",
       "    </tr>\n",
       "    <tr>\n",
       "      <th>1256</th>\n",
       "      <td>2018-02-05</td>\n",
       "      <td>55.530</td>\n",
       "      <td>56.26</td>\n",
       "      <td>54.57</td>\n",
       "      <td>54.69</td>\n",
       "      <td>16059955</td>\n",
       "      <td>SBUX</td>\n",
       "    </tr>\n",
       "    <tr>\n",
       "      <th>1257</th>\n",
       "      <td>2018-02-06</td>\n",
       "      <td>53.685</td>\n",
       "      <td>56.06</td>\n",
       "      <td>53.56</td>\n",
       "      <td>55.61</td>\n",
       "      <td>17415065</td>\n",
       "      <td>SBUX</td>\n",
       "    </tr>\n",
       "    <tr>\n",
       "      <th>1258</th>\n",
       "      <td>2018-02-07</td>\n",
       "      <td>55.080</td>\n",
       "      <td>55.43</td>\n",
       "      <td>54.44</td>\n",
       "      <td>54.46</td>\n",
       "      <td>13927022</td>\n",
       "      <td>SBUX</td>\n",
       "    </tr>\n",
       "  </tbody>\n",
       "</table>\n",
       "</div>"
      ],
      "text/plain": [
       "            date    open   high    low  close    volume  Name\n",
       "1254  2018-02-01  56.280  56.42  55.89  56.00  14690146  SBUX\n",
       "1255  2018-02-02  55.900  56.32  55.70  55.77  15358909  SBUX\n",
       "1256  2018-02-05  55.530  56.26  54.57  54.69  16059955  SBUX\n",
       "1257  2018-02-06  53.685  56.06  53.56  55.61  17415065  SBUX\n",
       "1258  2018-02-07  55.080  55.43  54.44  54.46  13927022  SBUX"
      ]
     },
     "execution_count": 3,
     "metadata": {},
     "output_type": "execute_result"
    }
   ],
   "source": [
    "df.tail()"
   ]
  },
  {
   "cell_type": "code",
   "execution_count": 4,
   "metadata": {
    "colab": {},
    "colab_type": "code",
    "id": "g4BqZZKVVa9Y"
   },
   "outputs": [
    {
     "data": {
      "text/plain": [
       "array([[28.185],\n",
       "       [28.07 ],\n",
       "       [28.13 ],\n",
       "       ...,\n",
       "       [54.69 ],\n",
       "       [55.61 ],\n",
       "       [54.46 ]])"
      ]
     },
     "execution_count": 4,
     "metadata": {},
     "output_type": "execute_result"
    }
   ],
   "source": [
    "# Start by doing the WRONG thing - trying to predict the price itself\n",
    "series = df['close'].values.reshape(-1,1)\n",
    "series"
   ]
  },
  {
   "cell_type": "code",
   "execution_count": 5,
   "metadata": {
    "colab": {},
    "colab_type": "code",
    "id": "9QZl4EZbV8bl"
   },
   "outputs": [
    {
     "data": {
      "text/plain": [
       "array([-1.94144714, -1.95251788, -1.94674184, ...,  0.61011874,\n",
       "        0.6986847 ,  0.58797726])"
      ]
     },
     "execution_count": 5,
     "metadata": {},
     "output_type": "execute_result"
    }
   ],
   "source": [
    "# Normalize the data\n",
    "# Note: I didn't think about where the true boundary is, this is just approx.\n",
    "scaler = StandardScaler()\n",
    "scaler.fit(series[:len(series)])\n",
    "series = scaler.transform(series).flatten()\n",
    "series"
   ]
  },
  {
   "cell_type": "code",
   "execution_count": 6,
   "metadata": {
    "colab": {
     "base_uri": "https://localhost:8080/",
     "height": 34
    },
    "colab_type": "code",
    "id": "2A0AKHVsWMlz",
    "outputId": "4085a62b-8fd1-43ab-de6d-eae22efb1d17"
   },
   "outputs": [],
   "source": [
    "### build the dataset\n",
    "# let's see if we can use T past values to predict the next value\n",
    "T = 10\n",
    "D = 1\n",
    "X = []\n",
    "Y = []\n",
    "for t in range(len(series) - T):\n",
    "    x = series[t: t+T]\n",
    "    X.append(x)\n",
    "    y = series[t+T]\n",
    "    Y.append(y)"
   ]
  },
  {
   "cell_type": "code",
   "execution_count": 13,
   "metadata": {},
   "outputs": [
    {
     "name": "stdout",
     "output_type": "stream",
     "text": [
      "X.shape: (1249, 10, 1), Y.shape: (1249,), N.length: 1249\n"
     ]
    }
   ],
   "source": [
    "X = np.array(X).reshape(-1, T, 1)\n",
    "Y = np.array(Y)\n",
    "N = len(X)\n",
    "print(f\"X.shape: {X.shape}, Y.shape: {Y.shape}, N.length: {N}\")"
   ]
  },
  {
   "cell_type": "code",
   "execution_count": 14,
   "metadata": {
    "colab": {
     "base_uri": "https://localhost:8080/",
     "height": 1000
    },
    "colab_type": "code",
    "id": "0ZNh2cqFW76z",
    "outputId": "e62c6ff9-3ad5-4d6a-a952-fff6a415ffcf"
   },
   "outputs": [
    {
     "name": "stderr",
     "output_type": "stream",
     "text": [
      "2022-03-18 11:05:43.765692: I tensorflow/core/platform/cpu_feature_guard.cc:151] This TensorFlow binary is optimized with oneAPI Deep Neural Network Library (oneDNN) to use the following CPU instructions in performance-critical operations:  AVX2 FMA\n",
      "To enable them in other operations, rebuild TensorFlow with the appropriate compiler flags.\n",
      "/opt/anaconda3/lib/python3.8/site-packages/keras/optimizer_v2/adam.py:105: UserWarning: The `lr` argument is deprecated, use `learning_rate` instead.\n",
      "  super(Adam, self).__init__(name, **kwargs)\n"
     ]
    }
   ],
   "source": [
    "### try autoregressive RNN model\n",
    "i = Input(shape=(T, 1))\n",
    "x = LSTM(5)(i)\n",
    "x = Dense(1)(x)\n",
    "model = Model(i, x)\n",
    "model.compile(loss='mse', optimizer=Adam(lr=0.1), metrics=['accuracy'])"
   ]
  },
  {
   "cell_type": "code",
   "execution_count": 15,
   "metadata": {},
   "outputs": [
    {
     "name": "stdout",
     "output_type": "stream",
     "text": [
      "Epoch 1/100\n",
      "20/20 [==============================] - 2s 33ms/step - loss: 0.0703 - accuracy: 0.0000e+00 - val_loss: 0.0361 - val_accuracy: 0.0000e+00\n",
      "Epoch 2/100\n",
      "20/20 [==============================] - 0s 5ms/step - loss: 0.0087 - accuracy: 0.0000e+00 - val_loss: 0.0582 - val_accuracy: 0.0000e+00\n",
      "Epoch 3/100\n",
      "20/20 [==============================] - 0s 7ms/step - loss: 0.0032 - accuracy: 0.0000e+00 - val_loss: 0.0229 - val_accuracy: 0.0000e+00\n",
      "Epoch 4/100\n",
      "20/20 [==============================] - 0s 6ms/step - loss: 0.0030 - accuracy: 0.0000e+00 - val_loss: 0.0267 - val_accuracy: 0.0000e+00\n",
      "Epoch 5/100\n",
      "20/20 [==============================] - 0s 6ms/step - loss: 0.0027 - accuracy: 0.0000e+00 - val_loss: 0.0246 - val_accuracy: 0.0000e+00\n",
      "Epoch 6/100\n",
      "20/20 [==============================] - 0s 6ms/step - loss: 0.0028 - accuracy: 0.0000e+00 - val_loss: 0.0217 - val_accuracy: 0.0000e+00\n",
      "Epoch 7/100\n",
      "20/20 [==============================] - 0s 6ms/step - loss: 0.0025 - accuracy: 0.0000e+00 - val_loss: 0.0134 - val_accuracy: 0.0000e+00\n",
      "Epoch 8/100\n",
      "20/20 [==============================] - 0s 6ms/step - loss: 0.0028 - accuracy: 0.0000e+00 - val_loss: 0.0138 - val_accuracy: 0.0000e+00\n",
      "Epoch 9/100\n",
      "20/20 [==============================] - 0s 6ms/step - loss: 0.0023 - accuracy: 0.0000e+00 - val_loss: 0.0148 - val_accuracy: 0.0000e+00\n",
      "Epoch 10/100\n",
      "20/20 [==============================] - 0s 6ms/step - loss: 0.0030 - accuracy: 0.0000e+00 - val_loss: 0.0111 - val_accuracy: 0.0000e+00\n",
      "Epoch 11/100\n",
      "20/20 [==============================] - 0s 6ms/step - loss: 0.0025 - accuracy: 0.0000e+00 - val_loss: 0.0123 - val_accuracy: 0.0000e+00\n",
      "Epoch 12/100\n",
      "20/20 [==============================] - 0s 7ms/step - loss: 0.0031 - accuracy: 0.0000e+00 - val_loss: 0.0137 - val_accuracy: 0.0000e+00\n",
      "Epoch 13/100\n",
      "20/20 [==============================] - 0s 6ms/step - loss: 0.0034 - accuracy: 0.0000e+00 - val_loss: 0.0148 - val_accuracy: 0.0000e+00\n",
      "Epoch 14/100\n",
      "20/20 [==============================] - 0s 6ms/step - loss: 0.0026 - accuracy: 0.0000e+00 - val_loss: 0.0102 - val_accuracy: 0.0000e+00\n",
      "Epoch 15/100\n",
      "20/20 [==============================] - 0s 7ms/step - loss: 0.0026 - accuracy: 0.0000e+00 - val_loss: 0.0124 - val_accuracy: 0.0000e+00\n",
      "Epoch 16/100\n",
      "20/20 [==============================] - 0s 6ms/step - loss: 0.0026 - accuracy: 0.0000e+00 - val_loss: 0.0096 - val_accuracy: 0.0000e+00\n",
      "Epoch 17/100\n",
      "20/20 [==============================] - 0s 7ms/step - loss: 0.0023 - accuracy: 0.0000e+00 - val_loss: 0.0097 - val_accuracy: 0.0000e+00\n",
      "Epoch 18/100\n",
      "20/20 [==============================] - 0s 7ms/step - loss: 0.0024 - accuracy: 0.0000e+00 - val_loss: 0.0105 - val_accuracy: 0.0000e+00\n",
      "Epoch 19/100\n",
      "20/20 [==============================] - 0s 7ms/step - loss: 0.0030 - accuracy: 0.0000e+00 - val_loss: 0.0086 - val_accuracy: 0.0000e+00\n",
      "Epoch 20/100\n",
      "20/20 [==============================] - 0s 6ms/step - loss: 0.0031 - accuracy: 0.0000e+00 - val_loss: 0.0168 - val_accuracy: 0.0000e+00\n",
      "Epoch 21/100\n",
      "20/20 [==============================] - 0s 6ms/step - loss: 0.0032 - accuracy: 0.0000e+00 - val_loss: 0.0076 - val_accuracy: 0.0000e+00\n",
      "Epoch 22/100\n",
      "20/20 [==============================] - 0s 6ms/step - loss: 0.0026 - accuracy: 0.0000e+00 - val_loss: 0.0076 - val_accuracy: 0.0000e+00\n",
      "Epoch 23/100\n",
      "20/20 [==============================] - 0s 6ms/step - loss: 0.0040 - accuracy: 0.0000e+00 - val_loss: 0.0221 - val_accuracy: 0.0000e+00\n",
      "Epoch 24/100\n",
      "20/20 [==============================] - 0s 7ms/step - loss: 0.0028 - accuracy: 0.0000e+00 - val_loss: 0.0085 - val_accuracy: 0.0000e+00\n",
      "Epoch 25/100\n",
      "20/20 [==============================] - 0s 6ms/step - loss: 0.0023 - accuracy: 0.0000e+00 - val_loss: 0.0136 - val_accuracy: 0.0000e+00\n",
      "Epoch 26/100\n",
      "20/20 [==============================] - 0s 6ms/step - loss: 0.0025 - accuracy: 0.0000e+00 - val_loss: 0.0076 - val_accuracy: 0.0000e+00\n",
      "Epoch 27/100\n",
      "20/20 [==============================] - 0s 6ms/step - loss: 0.0031 - accuracy: 0.0000e+00 - val_loss: 0.0082 - val_accuracy: 0.0000e+00\n",
      "Epoch 28/100\n",
      "20/20 [==============================] - 0s 6ms/step - loss: 0.0025 - accuracy: 0.0000e+00 - val_loss: 0.0086 - val_accuracy: 0.0000e+00\n",
      "Epoch 29/100\n",
      "20/20 [==============================] - 0s 6ms/step - loss: 0.0023 - accuracy: 0.0000e+00 - val_loss: 0.0127 - val_accuracy: 0.0000e+00\n",
      "Epoch 30/100\n",
      "20/20 [==============================] - 0s 6ms/step - loss: 0.0023 - accuracy: 0.0000e+00 - val_loss: 0.0081 - val_accuracy: 0.0000e+00\n",
      "Epoch 31/100\n",
      "20/20 [==============================] - 0s 6ms/step - loss: 0.0031 - accuracy: 0.0000e+00 - val_loss: 0.0072 - val_accuracy: 0.0000e+00\n",
      "Epoch 32/100\n",
      "20/20 [==============================] - 0s 6ms/step - loss: 0.0027 - accuracy: 0.0000e+00 - val_loss: 0.0108 - val_accuracy: 0.0000e+00\n",
      "Epoch 33/100\n",
      "20/20 [==============================] - 0s 7ms/step - loss: 0.0025 - accuracy: 0.0000e+00 - val_loss: 0.0093 - val_accuracy: 0.0000e+00\n",
      "Epoch 34/100\n",
      "20/20 [==============================] - 0s 6ms/step - loss: 0.0034 - accuracy: 0.0000e+00 - val_loss: 0.0094 - val_accuracy: 0.0000e+00\n",
      "Epoch 35/100\n",
      "20/20 [==============================] - 0s 6ms/step - loss: 0.0026 - accuracy: 0.0000e+00 - val_loss: 0.0071 - val_accuracy: 0.0000e+00\n",
      "Epoch 36/100\n",
      "20/20 [==============================] - 0s 7ms/step - loss: 0.0030 - accuracy: 0.0000e+00 - val_loss: 0.0210 - val_accuracy: 0.0000e+00\n",
      "Epoch 37/100\n",
      "20/20 [==============================] - 0s 6ms/step - loss: 0.0024 - accuracy: 0.0000e+00 - val_loss: 0.0078 - val_accuracy: 0.0000e+00\n",
      "Epoch 38/100\n",
      "20/20 [==============================] - 0s 6ms/step - loss: 0.0028 - accuracy: 0.0000e+00 - val_loss: 0.0081 - val_accuracy: 0.0000e+00\n",
      "Epoch 39/100\n",
      "20/20 [==============================] - 0s 6ms/step - loss: 0.0025 - accuracy: 0.0000e+00 - val_loss: 0.0069 - val_accuracy: 0.0000e+00\n",
      "Epoch 40/100\n",
      "20/20 [==============================] - 0s 6ms/step - loss: 0.0030 - accuracy: 0.0000e+00 - val_loss: 0.0180 - val_accuracy: 0.0000e+00\n",
      "Epoch 41/100\n",
      "20/20 [==============================] - 0s 6ms/step - loss: 0.0026 - accuracy: 0.0000e+00 - val_loss: 0.0081 - val_accuracy: 0.0000e+00\n",
      "Epoch 42/100\n",
      "20/20 [==============================] - 0s 6ms/step - loss: 0.0025 - accuracy: 0.0000e+00 - val_loss: 0.0121 - val_accuracy: 0.0000e+00\n",
      "Epoch 43/100\n",
      "20/20 [==============================] - 0s 6ms/step - loss: 0.0024 - accuracy: 0.0000e+00 - val_loss: 0.0071 - val_accuracy: 0.0000e+00\n",
      "Epoch 44/100\n",
      "20/20 [==============================] - 0s 6ms/step - loss: 0.0026 - accuracy: 0.0000e+00 - val_loss: 0.0071 - val_accuracy: 0.0000e+00\n",
      "Epoch 45/100\n",
      "20/20 [==============================] - 0s 6ms/step - loss: 0.0023 - accuracy: 0.0000e+00 - val_loss: 0.0068 - val_accuracy: 0.0000e+00\n",
      "Epoch 46/100\n",
      "20/20 [==============================] - 0s 6ms/step - loss: 0.0023 - accuracy: 0.0000e+00 - val_loss: 0.0081 - val_accuracy: 0.0000e+00\n",
      "Epoch 47/100\n",
      "20/20 [==============================] - 0s 6ms/step - loss: 0.0027 - accuracy: 0.0000e+00 - val_loss: 0.0073 - val_accuracy: 0.0000e+00\n",
      "Epoch 48/100\n",
      "20/20 [==============================] - 0s 6ms/step - loss: 0.0030 - accuracy: 0.0000e+00 - val_loss: 0.0117 - val_accuracy: 0.0000e+00\n",
      "Epoch 49/100\n",
      "20/20 [==============================] - 0s 6ms/step - loss: 0.0024 - accuracy: 0.0000e+00 - val_loss: 0.0091 - val_accuracy: 0.0000e+00\n",
      "Epoch 50/100\n",
      "20/20 [==============================] - 0s 6ms/step - loss: 0.0040 - accuracy: 0.0000e+00 - val_loss: 0.0080 - val_accuracy: 0.0000e+00\n",
      "Epoch 51/100\n",
      "20/20 [==============================] - 0s 6ms/step - loss: 0.0035 - accuracy: 0.0000e+00 - val_loss: 0.0070 - val_accuracy: 0.0000e+00\n",
      "Epoch 52/100\n",
      "20/20 [==============================] - 0s 5ms/step - loss: 0.0031 - accuracy: 0.0000e+00 - val_loss: 0.0134 - val_accuracy: 0.0000e+00\n",
      "Epoch 53/100\n",
      "20/20 [==============================] - 0s 6ms/step - loss: 0.0028 - accuracy: 0.0000e+00 - val_loss: 0.0076 - val_accuracy: 0.0000e+00\n",
      "Epoch 54/100\n",
      "20/20 [==============================] - 0s 6ms/step - loss: 0.0034 - accuracy: 0.0000e+00 - val_loss: 0.0091 - val_accuracy: 0.0000e+00\n",
      "Epoch 55/100\n",
      "20/20 [==============================] - 0s 6ms/step - loss: 0.0026 - accuracy: 0.0000e+00 - val_loss: 0.0074 - val_accuracy: 0.0000e+00\n"
     ]
    },
    {
     "name": "stdout",
     "output_type": "stream",
     "text": [
      "Epoch 56/100\n",
      "20/20 [==============================] - 0s 6ms/step - loss: 0.0023 - accuracy: 0.0000e+00 - val_loss: 0.0083 - val_accuracy: 0.0000e+00\n",
      "Epoch 57/100\n",
      "20/20 [==============================] - 0s 6ms/step - loss: 0.0022 - accuracy: 0.0000e+00 - val_loss: 0.0084 - val_accuracy: 0.0000e+00\n",
      "Epoch 58/100\n",
      "20/20 [==============================] - 0s 6ms/step - loss: 0.0027 - accuracy: 0.0000e+00 - val_loss: 0.0075 - val_accuracy: 0.0000e+00\n",
      "Epoch 59/100\n",
      "20/20 [==============================] - 0s 6ms/step - loss: 0.0025 - accuracy: 0.0000e+00 - val_loss: 0.0061 - val_accuracy: 0.0000e+00\n",
      "Epoch 60/100\n",
      "20/20 [==============================] - 0s 6ms/step - loss: 0.0023 - accuracy: 0.0000e+00 - val_loss: 0.0081 - val_accuracy: 0.0000e+00\n",
      "Epoch 61/100\n",
      "20/20 [==============================] - 0s 6ms/step - loss: 0.0023 - accuracy: 0.0000e+00 - val_loss: 0.0069 - val_accuracy: 0.0000e+00\n",
      "Epoch 62/100\n",
      "20/20 [==============================] - 0s 6ms/step - loss: 0.0025 - accuracy: 0.0000e+00 - val_loss: 0.0072 - val_accuracy: 0.0000e+00\n",
      "Epoch 63/100\n",
      "20/20 [==============================] - 0s 6ms/step - loss: 0.0022 - accuracy: 0.0000e+00 - val_loss: 0.0072 - val_accuracy: 0.0000e+00\n",
      "Epoch 64/100\n",
      "20/20 [==============================] - 0s 6ms/step - loss: 0.0027 - accuracy: 0.0000e+00 - val_loss: 0.0084 - val_accuracy: 0.0000e+00\n",
      "Epoch 65/100\n",
      "20/20 [==============================] - 0s 6ms/step - loss: 0.0026 - accuracy: 0.0000e+00 - val_loss: 0.0078 - val_accuracy: 0.0000e+00\n",
      "Epoch 66/100\n",
      "20/20 [==============================] - 0s 6ms/step - loss: 0.0025 - accuracy: 0.0000e+00 - val_loss: 0.0082 - val_accuracy: 0.0000e+00\n",
      "Epoch 67/100\n",
      "20/20 [==============================] - 0s 6ms/step - loss: 0.0024 - accuracy: 0.0000e+00 - val_loss: 0.0090 - val_accuracy: 0.0000e+00\n",
      "Epoch 68/100\n",
      "20/20 [==============================] - 0s 5ms/step - loss: 0.0022 - accuracy: 0.0000e+00 - val_loss: 0.0079 - val_accuracy: 0.0000e+00\n",
      "Epoch 69/100\n",
      "20/20 [==============================] - 0s 6ms/step - loss: 0.0033 - accuracy: 0.0000e+00 - val_loss: 0.0080 - val_accuracy: 0.0000e+00\n",
      "Epoch 70/100\n",
      "20/20 [==============================] - 0s 6ms/step - loss: 0.0027 - accuracy: 0.0000e+00 - val_loss: 0.0106 - val_accuracy: 0.0000e+00\n",
      "Epoch 71/100\n",
      "20/20 [==============================] - 0s 7ms/step - loss: 0.0022 - accuracy: 0.0000e+00 - val_loss: 0.0076 - val_accuracy: 0.0000e+00\n",
      "Epoch 72/100\n",
      "20/20 [==============================] - 0s 6ms/step - loss: 0.0024 - accuracy: 0.0000e+00 - val_loss: 0.0076 - val_accuracy: 0.0000e+00\n",
      "Epoch 73/100\n",
      "20/20 [==============================] - 0s 6ms/step - loss: 0.0026 - accuracy: 0.0000e+00 - val_loss: 0.0078 - val_accuracy: 0.0000e+00\n",
      "Epoch 74/100\n",
      "20/20 [==============================] - 0s 6ms/step - loss: 0.0026 - accuracy: 0.0000e+00 - val_loss: 0.0070 - val_accuracy: 0.0000e+00\n",
      "Epoch 75/100\n",
      "20/20 [==============================] - 0s 6ms/step - loss: 0.0035 - accuracy: 0.0000e+00 - val_loss: 0.0085 - val_accuracy: 0.0000e+00\n",
      "Epoch 76/100\n",
      "20/20 [==============================] - 0s 6ms/step - loss: 0.0040 - accuracy: 0.0000e+00 - val_loss: 0.0087 - val_accuracy: 0.0000e+00\n",
      "Epoch 77/100\n",
      "20/20 [==============================] - 0s 6ms/step - loss: 0.0030 - accuracy: 0.0000e+00 - val_loss: 0.0067 - val_accuracy: 0.0000e+00\n",
      "Epoch 78/100\n",
      "20/20 [==============================] - 0s 6ms/step - loss: 0.0023 - accuracy: 0.0000e+00 - val_loss: 0.0088 - val_accuracy: 0.0000e+00\n",
      "Epoch 79/100\n",
      "20/20 [==============================] - 0s 6ms/step - loss: 0.0023 - accuracy: 0.0000e+00 - val_loss: 0.0127 - val_accuracy: 0.0000e+00\n",
      "Epoch 80/100\n",
      "20/20 [==============================] - 0s 6ms/step - loss: 0.0030 - accuracy: 0.0000e+00 - val_loss: 0.0146 - val_accuracy: 0.0000e+00\n",
      "Epoch 81/100\n",
      "20/20 [==============================] - 0s 6ms/step - loss: 0.0031 - accuracy: 0.0000e+00 - val_loss: 0.0084 - val_accuracy: 0.0000e+00\n",
      "Epoch 82/100\n",
      "20/20 [==============================] - 0s 5ms/step - loss: 0.0031 - accuracy: 0.0000e+00 - val_loss: 0.0057 - val_accuracy: 0.0000e+00\n",
      "Epoch 83/100\n",
      "20/20 [==============================] - 0s 6ms/step - loss: 0.0041 - accuracy: 0.0000e+00 - val_loss: 0.0066 - val_accuracy: 0.0000e+00\n",
      "Epoch 84/100\n",
      "20/20 [==============================] - 0s 6ms/step - loss: 0.0031 - accuracy: 0.0000e+00 - val_loss: 0.0087 - val_accuracy: 0.0000e+00\n",
      "Epoch 85/100\n",
      "20/20 [==============================] - 0s 6ms/step - loss: 0.0030 - accuracy: 0.0000e+00 - val_loss: 0.0112 - val_accuracy: 0.0000e+00\n",
      "Epoch 86/100\n",
      "20/20 [==============================] - 0s 6ms/step - loss: 0.0036 - accuracy: 0.0000e+00 - val_loss: 0.0065 - val_accuracy: 0.0000e+00\n",
      "Epoch 87/100\n",
      "20/20 [==============================] - 0s 6ms/step - loss: 0.0026 - accuracy: 0.0000e+00 - val_loss: 0.0086 - val_accuracy: 0.0000e+00\n",
      "Epoch 88/100\n",
      "20/20 [==============================] - 0s 6ms/step - loss: 0.0024 - accuracy: 0.0000e+00 - val_loss: 0.0166 - val_accuracy: 0.0000e+00\n",
      "Epoch 89/100\n",
      "20/20 [==============================] - 0s 6ms/step - loss: 0.0026 - accuracy: 0.0000e+00 - val_loss: 0.0089 - val_accuracy: 0.0000e+00\n",
      "Epoch 90/100\n",
      "20/20 [==============================] - 0s 6ms/step - loss: 0.0023 - accuracy: 0.0000e+00 - val_loss: 0.0082 - val_accuracy: 0.0000e+00\n",
      "Epoch 91/100\n",
      "20/20 [==============================] - 0s 6ms/step - loss: 0.0025 - accuracy: 0.0000e+00 - val_loss: 0.0072 - val_accuracy: 0.0000e+00\n",
      "Epoch 92/100\n",
      "20/20 [==============================] - 0s 5ms/step - loss: 0.0029 - accuracy: 0.0000e+00 - val_loss: 0.0063 - val_accuracy: 0.0000e+00\n",
      "Epoch 93/100\n",
      "20/20 [==============================] - 0s 6ms/step - loss: 0.0024 - accuracy: 0.0000e+00 - val_loss: 0.0168 - val_accuracy: 0.0000e+00\n",
      "Epoch 94/100\n",
      "20/20 [==============================] - 0s 6ms/step - loss: 0.0024 - accuracy: 0.0000e+00 - val_loss: 0.0079 - val_accuracy: 0.0000e+00\n",
      "Epoch 95/100\n",
      "20/20 [==============================] - 0s 6ms/step - loss: 0.0024 - accuracy: 0.0000e+00 - val_loss: 0.0069 - val_accuracy: 0.0000e+00\n",
      "Epoch 96/100\n",
      "20/20 [==============================] - 0s 6ms/step - loss: 0.0026 - accuracy: 0.0000e+00 - val_loss: 0.0076 - val_accuracy: 0.0000e+00\n",
      "Epoch 97/100\n",
      "20/20 [==============================] - 0s 6ms/step - loss: 0.0025 - accuracy: 0.0000e+00 - val_loss: 0.0067 - val_accuracy: 0.0000e+00\n",
      "Epoch 98/100\n",
      "20/20 [==============================] - 0s 7ms/step - loss: 0.0027 - accuracy: 0.0000e+00 - val_loss: 0.0066 - val_accuracy: 0.0000e+00\n",
      "Epoch 99/100\n",
      "20/20 [==============================] - 0s 6ms/step - loss: 0.0025 - accuracy: 0.0000e+00 - val_loss: 0.0089 - val_accuracy: 0.0000e+00\n",
      "Epoch 100/100\n",
      "20/20 [==============================] - 0s 5ms/step - loss: 0.0022 - accuracy: 0.0000e+00 - val_loss: 0.0087 - val_accuracy: 0.0000e+00\n"
     ]
    }
   ],
   "source": [
    "# train the RNN\n",
    "r = model.fit(X[:-N//2], Y[:-N//2], epochs=100, validation_data=(X[-N//2:], Y[-N//2:]))"
   ]
  },
  {
   "cell_type": "code",
   "execution_count": 16,
   "metadata": {
    "colab": {
     "base_uri": "https://localhost:8080/",
     "height": 282
    },
    "colab_type": "code",
    "id": "QdEwztT-Xt_J",
    "outputId": "b47939f0-0720-465f-a3bf-facba6e87605"
   },
   "outputs": [
    {
     "data": {
      "text/plain": [
       "<matplotlib.legend.Legend at 0x7f87086453a0>"
      ]
     },
     "execution_count": 16,
     "metadata": {},
     "output_type": "execute_result"
    },
    {
     "data": {
      "image/png": "[encoded data removed]",
      "text/plain": [
       "<Figure size 432x288 with 1 Axes>"
      ]
     },
     "metadata": {
      "needs_background": "light"
     },
     "output_type": "display_data"
    }
   ],
   "source": [
    "# plot accuracy per iteration\n",
    "plt.plot(r.history['loss'], label='loss')\n",
    "plt.plot(r.history['val_loss'], label='val_loss')\n",
    "plt.legend()"
   ]
  },
  {
   "cell_type": "code",
   "execution_count": 19,
   "metadata": {
    "colab": {
     "base_uri": "https://localhost:8080/",
     "height": 282
    },
    "colab_type": "code",
    "id": "zJh3b-H2YMwJ",
    "outputId": "5a007836-2e84-4bc5-9d1e-8ecd33aeae6f"
   },
   "outputs": [],
   "source": [
    "# One-step forecast using true targets\n",
    "predicts = model.predict(X)\n",
    "predicts.shape\n",
    "final_predictions = predicts[:, 0]"
   ]
  },
  {
   "cell_type": "code",
   "execution_count": 20,
   "metadata": {},
   "outputs": [
    {
     "data": {
      "image/png": "[encoded data removed]",
      "text/plain": [
       "<Figure size 432x288 with 1 Axes>"
      ]
     },
     "metadata": {
      "needs_background": "light"
     },
     "output_type": "display_data"
    }
   ],
   "source": [
    "plt.plot(Y, label='targets')\n",
    "plt.plot(final_predictions, label='predictions')\n",
    "plt.legend()\n",
    "plt.show()"
   ]
  },
  {
   "cell_type": "code",
   "execution_count": 22,
   "metadata": {
    "colab": {
     "base_uri": "https://localhost:8080/",
     "height": 282
    },
    "colab_type": "code",
    "id": "1uhcJG1xYo8w",
    "outputId": "369b1919-7797-4999-b43f-04cfdc3ab785"
   },
   "outputs": [],
   "source": [
    "# Multi-step forecast\n",
    "validation_target = Y[-N//2:]\n",
    "validation_predictions = []\n",
    "\n",
    "# last train input\n",
    "last_x = X[-N//2]\n",
    "\n",
    "while len(validation_predictions) < len(validation_target):\n",
    "    p = model.predict(last_x.reshape(1, T, 1))[0,0]\n",
    "    validation_predictions.append(p)\n",
    "    \n",
    "    last_x = np.roll(last_x, -1)\n",
    "    last_x[-1] = p\n"
   ]
  },
  {
   "cell_type": "code",
   "execution_count": 23,
   "metadata": {},
   "outputs": [
    {
     "data": {
      "image/png": "[encoded data removed]",
      "text/plain": [
       "<Figure size 432x288 with 1 Axes>"
      ]
     },
     "metadata": {
      "needs_background": "light"
     },
     "output_type": "display_data"
    }
   ],
   "source": [
    "plt.plot(validation_target, label='targets')\n",
    "plt.plot(validation_predictions, label='predictions')\n",
    "plt.legend()\n",
    "plt.show()"
   ]
  },
  {
   "cell_type": "code",
   "execution_count": 24,
   "metadata": {
    "colab": {},
    "colab_type": "code",
    "id": "KoVi99tUZqY6"
   },
   "outputs": [],
   "source": [
    "# calculate returns by first shifting the data\n",
    "df['PrevClose'] = df['close'].shift(1)\n",
    "\n",
    "# so now it's like\n",
    "# close / prev close\n",
    "# x[2] x[1]\n",
    "# x[3] x[2]\n",
    "# x[4] x[3]\n",
    "# ...\n",
    "# x[t] x[t-1]"
   ]
  },
  {
   "cell_type": "code",
   "execution_count": 25,
   "metadata": {
    "colab": {
     "base_uri": "https://localhost:8080/",
     "height": 204
    },
    "colab_type": "code",
    "id": "0Pku3KzlbUhE",
    "outputId": "123235d2-329c-4e86-94b7-98dfcb425893"
   },
   "outputs": [
    {
     "data": {
      "text/html": [
       "<div>\n",
       "<style scoped>\n",
       "    .dataframe tbody tr th:only-of-type {\n",
       "        vertical-align: middle;\n",
       "    }\n",
       "\n",
       "    .dataframe tbody tr th {\n",
       "        vertical-align: top;\n",
       "    }\n",
       "\n",
       "    .dataframe thead th {\n",
       "        text-align: right;\n",
       "    }\n",
       "</style>\n",
       "<table border=\"1\" class=\"dataframe\">\n",
       "  <thead>\n",
       "    <tr style=\"text-align: right;\">\n",
       "      <th></th>\n",
       "      <th>date</th>\n",
       "      <th>open</th>\n",
       "      <th>high</th>\n",
       "      <th>low</th>\n",
       "      <th>close</th>\n",
       "      <th>volume</th>\n",
       "      <th>Name</th>\n",
       "      <th>PrevClose</th>\n",
       "    </tr>\n",
       "  </thead>\n",
       "  <tbody>\n",
       "    <tr>\n",
       "      <th>0</th>\n",
       "      <td>2013-02-08</td>\n",
       "      <td>27.920</td>\n",
       "      <td>28.325</td>\n",
       "      <td>27.920</td>\n",
       "      <td>28.185</td>\n",
       "      <td>7146296</td>\n",
       "      <td>SBUX</td>\n",
       "      <td>NaN</td>\n",
       "    </tr>\n",
       "    <tr>\n",
       "      <th>1</th>\n",
       "      <td>2013-02-11</td>\n",
       "      <td>28.260</td>\n",
       "      <td>28.260</td>\n",
       "      <td>27.930</td>\n",
       "      <td>28.070</td>\n",
       "      <td>5457354</td>\n",
       "      <td>SBUX</td>\n",
       "      <td>28.185</td>\n",
       "    </tr>\n",
       "    <tr>\n",
       "      <th>2</th>\n",
       "      <td>2013-02-12</td>\n",
       "      <td>28.000</td>\n",
       "      <td>28.275</td>\n",
       "      <td>27.975</td>\n",
       "      <td>28.130</td>\n",
       "      <td>8665592</td>\n",
       "      <td>SBUX</td>\n",
       "      <td>28.070</td>\n",
       "    </tr>\n",
       "    <tr>\n",
       "      <th>3</th>\n",
       "      <td>2013-02-13</td>\n",
       "      <td>28.230</td>\n",
       "      <td>28.230</td>\n",
       "      <td>27.750</td>\n",
       "      <td>27.915</td>\n",
       "      <td>7022056</td>\n",
       "      <td>SBUX</td>\n",
       "      <td>28.130</td>\n",
       "    </tr>\n",
       "    <tr>\n",
       "      <th>4</th>\n",
       "      <td>2013-02-14</td>\n",
       "      <td>27.765</td>\n",
       "      <td>27.905</td>\n",
       "      <td>27.675</td>\n",
       "      <td>27.775</td>\n",
       "      <td>8899188</td>\n",
       "      <td>SBUX</td>\n",
       "      <td>27.915</td>\n",
       "    </tr>\n",
       "  </tbody>\n",
       "</table>\n",
       "</div>"
      ],
      "text/plain": [
       "         date    open    high     low   close   volume  Name  PrevClose\n",
       "0  2013-02-08  27.920  28.325  27.920  28.185  7146296  SBUX        NaN\n",
       "1  2013-02-11  28.260  28.260  27.930  28.070  5457354  SBUX     28.185\n",
       "2  2013-02-12  28.000  28.275  27.975  28.130  8665592  SBUX     28.070\n",
       "3  2013-02-13  28.230  28.230  27.750  27.915  7022056  SBUX     28.130\n",
       "4  2013-02-14  27.765  27.905  27.675  27.775  8899188  SBUX     27.915"
      ]
     },
     "execution_count": 25,
     "metadata": {},
     "output_type": "execute_result"
    }
   ],
   "source": [
    "df.head()"
   ]
  },
  {
   "cell_type": "code",
   "execution_count": 26,
   "metadata": {
    "colab": {},
    "colab_type": "code",
    "id": "CDuOu9KYbXMq"
   },
   "outputs": [],
   "source": [
    "# then the return is\n",
    "# (x[t] - x[t-1]) / x[t-1]\n",
    "df[\"Return\"] = (df['close'] - df['PrevClose']) / df['PrevClose'] "
   ]
  },
  {
   "cell_type": "code",
   "execution_count": 27,
   "metadata": {
    "colab": {
     "base_uri": "https://localhost:8080/",
     "height": 204
    },
    "colab_type": "code",
    "id": "z7NLxxeQbxKf",
    "outputId": "47702fff-af93-452f-94ab-03923e8b8a0c"
   },
   "outputs": [
    {
     "data": {
      "text/html": [
       "<div>\n",
       "<style scoped>\n",
       "    .dataframe tbody tr th:only-of-type {\n",
       "        vertical-align: middle;\n",
       "    }\n",
       "\n",
       "    .dataframe tbody tr th {\n",
       "        vertical-align: top;\n",
       "    }\n",
       "\n",
       "    .dataframe thead th {\n",
       "        text-align: right;\n",
       "    }\n",
       "</style>\n",
       "<table border=\"1\" class=\"dataframe\">\n",
       "  <thead>\n",
       "    <tr style=\"text-align: right;\">\n",
       "      <th></th>\n",
       "      <th>date</th>\n",
       "      <th>open</th>\n",
       "      <th>high</th>\n",
       "      <th>low</th>\n",
       "      <th>close</th>\n",
       "      <th>volume</th>\n",
       "      <th>Name</th>\n",
       "      <th>PrevClose</th>\n",
       "      <th>Return</th>\n",
       "    </tr>\n",
       "  </thead>\n",
       "  <tbody>\n",
       "    <tr>\n",
       "      <th>0</th>\n",
       "      <td>2013-02-08</td>\n",
       "      <td>27.920</td>\n",
       "      <td>28.325</td>\n",
       "      <td>27.920</td>\n",
       "      <td>28.185</td>\n",
       "      <td>7146296</td>\n",
       "      <td>SBUX</td>\n",
       "      <td>NaN</td>\n",
       "      <td>NaN</td>\n",
       "    </tr>\n",
       "    <tr>\n",
       "      <th>1</th>\n",
       "      <td>2013-02-11</td>\n",
       "      <td>28.260</td>\n",
       "      <td>28.260</td>\n",
       "      <td>27.930</td>\n",
       "      <td>28.070</td>\n",
       "      <td>5457354</td>\n",
       "      <td>SBUX</td>\n",
       "      <td>28.185</td>\n",
       "      <td>-0.004080</td>\n",
       "    </tr>\n",
       "    <tr>\n",
       "      <th>2</th>\n",
       "      <td>2013-02-12</td>\n",
       "      <td>28.000</td>\n",
       "      <td>28.275</td>\n",
       "      <td>27.975</td>\n",
       "      <td>28.130</td>\n",
       "      <td>8665592</td>\n",
       "      <td>SBUX</td>\n",
       "      <td>28.070</td>\n",
       "      <td>0.002138</td>\n",
       "    </tr>\n",
       "    <tr>\n",
       "      <th>3</th>\n",
       "      <td>2013-02-13</td>\n",
       "      <td>28.230</td>\n",
       "      <td>28.230</td>\n",
       "      <td>27.750</td>\n",
       "      <td>27.915</td>\n",
       "      <td>7022056</td>\n",
       "      <td>SBUX</td>\n",
       "      <td>28.130</td>\n",
       "      <td>-0.007643</td>\n",
       "    </tr>\n",
       "    <tr>\n",
       "      <th>4</th>\n",
       "      <td>2013-02-14</td>\n",
       "      <td>27.765</td>\n",
       "      <td>27.905</td>\n",
       "      <td>27.675</td>\n",
       "      <td>27.775</td>\n",
       "      <td>8899188</td>\n",
       "      <td>SBUX</td>\n",
       "      <td>27.915</td>\n",
       "      <td>-0.005015</td>\n",
       "    </tr>\n",
       "  </tbody>\n",
       "</table>\n",
       "</div>"
      ],
      "text/plain": [
       "         date    open    high     low   close   volume  Name  PrevClose  \\\n",
       "0  2013-02-08  27.920  28.325  27.920  28.185  7146296  SBUX        NaN   \n",
       "1  2013-02-11  28.260  28.260  27.930  28.070  5457354  SBUX     28.185   \n",
       "2  2013-02-12  28.000  28.275  27.975  28.130  8665592  SBUX     28.070   \n",
       "3  2013-02-13  28.230  28.230  27.750  27.915  7022056  SBUX     28.130   \n",
       "4  2013-02-14  27.765  27.905  27.675  27.775  8899188  SBUX     27.915   \n",
       "\n",
       "     Return  \n",
       "0       NaN  \n",
       "1 -0.004080  \n",
       "2  0.002138  \n",
       "3 -0.007643  \n",
       "4 -0.005015  "
      ]
     },
     "execution_count": 27,
     "metadata": {},
     "output_type": "execute_result"
    }
   ],
   "source": [
    "df.head()"
   ]
  },
  {
   "cell_type": "code",
   "execution_count": 28,
   "metadata": {
    "colab": {
     "base_uri": "https://localhost:8080/",
     "height": 282
    },
    "colab_type": "code",
    "id": "qNSxm76qbyR3",
    "outputId": "495b53bd-197a-456e-e50d-9588e3009d67"
   },
   "outputs": [
    {
     "data": {
      "text/plain": [
       "<AxesSubplot:>"
      ]
     },
     "execution_count": 28,
     "metadata": {},
     "output_type": "execute_result"
    },
    {
     "data": {
      "image/png": "[encoded data removed]",
      "text/plain": [
       "<Figure size 432x288 with 1 Axes>"
      ]
     },
     "metadata": {
      "needs_background": "light"
     },
     "output_type": "display_data"
    }
   ],
   "source": [
    "# Now let's try an LSTM to predict returns\n",
    "df['Return'].hist()"
   ]
  },
  {
   "cell_type": "code",
   "execution_count": 29,
   "metadata": {
    "colab": {},
    "colab_type": "code",
    "id": "H5W6_7Gvb-Xv"
   },
   "outputs": [
    {
     "data": {
      "text/plain": [
       "array([-0.37879654,  0.12441548, -0.66715001, ..., -1.61585067,\n",
       "        1.31287055, -1.72223474])"
      ]
     },
     "execution_count": 29,
     "metadata": {},
     "output_type": "execute_result"
    }
   ],
   "source": [
    "series = df['Return'].values[1:].reshape(-1, 1)\n",
    "# Normalize the data\n",
    "# Note: I didn't think about where the true boundary is, this is just approx.\n",
    "scaler = StandardScaler()\n",
    "scaler.fit(series[:len(series)])\n",
    "series = scaler.transform(series).flatten()\n",
    "series"
   ]
  },
  {
   "cell_type": "code",
   "execution_count": 30,
   "metadata": {
    "colab": {
     "base_uri": "https://localhost:8080/",
     "height": 34
    },
    "colab_type": "code",
    "id": "R9J8-4MJceL6",
    "outputId": "80e9558a-67a1-4deb-f9e4-eea97e9307d3"
   },
   "outputs": [
    {
     "name": "stdout",
     "output_type": "stream",
     "text": [
      "X.shape: (1248, 10, 1), Y.shape: (1248,), N.length: 1248\n"
     ]
    }
   ],
   "source": [
    "### build the dataset\n",
    "# let's see if we can use T past values to predict the next value\n",
    "T = 10\n",
    "D = 1\n",
    "X = []\n",
    "Y = []\n",
    "for t in range(len(series) - T):\n",
    "    x = series[t: t+T]\n",
    "    X.append(x)\n",
    "    y = series[t+T]\n",
    "    Y.append(y)\n",
    "    \n",
    "X = np.array(X).reshape(-1, T, 1)\n",
    "Y = np.array(Y)\n",
    "N = len(X)\n",
    "print(f\"X.shape: {X.shape}, Y.shape: {Y.shape}, N.length: {N}\")"
   ]
  },
  {
   "cell_type": "code",
   "execution_count": 31,
   "metadata": {
    "colab": {
     "base_uri": "https://localhost:8080/",
     "height": 1000
    },
    "colab_type": "code",
    "id": "Nxy2hjRgdKD5",
    "outputId": "45c3377a-b3be-40a5-8cdc-001376c3d010"
   },
   "outputs": [
    {
     "name": "stdout",
     "output_type": "stream",
     "text": [
      "Epoch 1/100\n"
     ]
    },
    {
     "name": "stderr",
     "output_type": "stream",
     "text": [
      "/opt/anaconda3/lib/python3.8/site-packages/keras/optimizer_v2/adam.py:105: UserWarning: The `lr` argument is deprecated, use `learning_rate` instead.\n",
      "  super(Adam, self).__init__(name, **kwargs)\n"
     ]
    },
    {
     "name": "stdout",
     "output_type": "stream",
     "text": [
      "20/20 [==============================] - 2s 24ms/step - loss: 0.9436 - accuracy: 0.0000e+00 - val_loss: 1.0797 - val_accuracy: 0.0000e+00\n",
      "Epoch 2/100\n",
      "20/20 [==============================] - 0s 6ms/step - loss: 0.9456 - accuracy: 0.0000e+00 - val_loss: 1.0632 - val_accuracy: 0.0000e+00\n",
      "Epoch 3/100\n",
      "20/20 [==============================] - 0s 6ms/step - loss: 0.9318 - accuracy: 0.0000e+00 - val_loss: 1.1292 - val_accuracy: 0.0000e+00\n",
      "Epoch 4/100\n",
      "20/20 [==============================] - 0s 6ms/step - loss: 0.9446 - accuracy: 0.0000e+00 - val_loss: 1.0770 - val_accuracy: 0.0000e+00\n",
      "Epoch 5/100\n",
      "20/20 [==============================] - 0s 6ms/step - loss: 0.9310 - accuracy: 0.0000e+00 - val_loss: 1.1770 - val_accuracy: 0.0000e+00\n",
      "Epoch 6/100\n",
      "20/20 [==============================] - 0s 6ms/step - loss: 0.9328 - accuracy: 0.0000e+00 - val_loss: 1.1247 - val_accuracy: 0.0000e+00\n",
      "Epoch 7/100\n",
      "20/20 [==============================] - 0s 6ms/step - loss: 0.9232 - accuracy: 0.0000e+00 - val_loss: 1.1059 - val_accuracy: 0.0000e+00\n",
      "Epoch 8/100\n",
      "20/20 [==============================] - 0s 7ms/step - loss: 0.9131 - accuracy: 0.0000e+00 - val_loss: 1.1672 - val_accuracy: 0.0000e+00\n",
      "Epoch 9/100\n",
      "20/20 [==============================] - 0s 7ms/step - loss: 0.9093 - accuracy: 0.0000e+00 - val_loss: 1.1643 - val_accuracy: 0.0000e+00\n",
      "Epoch 10/100\n",
      "20/20 [==============================] - 0s 7ms/step - loss: 0.9191 - accuracy: 0.0000e+00 - val_loss: 1.1737 - val_accuracy: 0.0000e+00\n",
      "Epoch 11/100\n",
      "20/20 [==============================] - 0s 7ms/step - loss: 0.9161 - accuracy: 0.0000e+00 - val_loss: 1.1692 - val_accuracy: 0.0000e+00\n",
      "Epoch 12/100\n",
      "20/20 [==============================] - 0s 7ms/step - loss: 0.9126 - accuracy: 0.0000e+00 - val_loss: 1.0882 - val_accuracy: 0.0000e+00\n",
      "Epoch 13/100\n",
      "20/20 [==============================] - 0s 6ms/step - loss: 0.9047 - accuracy: 0.0000e+00 - val_loss: 1.1651 - val_accuracy: 0.0000e+00\n",
      "Epoch 14/100\n",
      "20/20 [==============================] - 0s 7ms/step - loss: 0.9035 - accuracy: 0.0000e+00 - val_loss: 1.1542 - val_accuracy: 0.0000e+00\n",
      "Epoch 15/100\n",
      "20/20 [==============================] - 0s 7ms/step - loss: 0.9395 - accuracy: 0.0000e+00 - val_loss: 1.0942 - val_accuracy: 0.0000e+00\n",
      "Epoch 16/100\n",
      "20/20 [==============================] - 0s 6ms/step - loss: 0.9189 - accuracy: 0.0000e+00 - val_loss: 1.2040 - val_accuracy: 0.0000e+00\n",
      "Epoch 17/100\n",
      "20/20 [==============================] - 0s 6ms/step - loss: 0.9021 - accuracy: 0.0000e+00 - val_loss: 1.1456 - val_accuracy: 0.0000e+00\n",
      "Epoch 18/100\n",
      "20/20 [==============================] - 0s 8ms/step - loss: 0.9249 - accuracy: 0.0000e+00 - val_loss: 1.1711 - val_accuracy: 0.0000e+00\n",
      "Epoch 19/100\n",
      "20/20 [==============================] - 0s 7ms/step - loss: 0.8943 - accuracy: 0.0000e+00 - val_loss: 1.2272 - val_accuracy: 0.0000e+00\n",
      "Epoch 20/100\n",
      "20/20 [==============================] - 0s 7ms/step - loss: 0.8818 - accuracy: 0.0000e+00 - val_loss: 1.2558 - val_accuracy: 0.0000e+00\n",
      "Epoch 21/100\n",
      "20/20 [==============================] - 0s 7ms/step - loss: 0.8957 - accuracy: 0.0000e+00 - val_loss: 1.3364 - val_accuracy: 0.0000e+00\n",
      "Epoch 22/100\n",
      "20/20 [==============================] - 0s 7ms/step - loss: 0.8807 - accuracy: 0.0000e+00 - val_loss: 1.2815 - val_accuracy: 0.0000e+00\n",
      "Epoch 23/100\n",
      "20/20 [==============================] - 0s 6ms/step - loss: 0.9121 - accuracy: 0.0000e+00 - val_loss: 1.1632 - val_accuracy: 0.0000e+00\n",
      "Epoch 24/100\n",
      "20/20 [==============================] - 0s 6ms/step - loss: 0.9492 - accuracy: 0.0000e+00 - val_loss: 1.2753 - val_accuracy: 0.0000e+00\n",
      "Epoch 25/100\n",
      "20/20 [==============================] - 0s 7ms/step - loss: 0.8841 - accuracy: 0.0000e+00 - val_loss: 1.2417 - val_accuracy: 0.0000e+00\n",
      "Epoch 26/100\n",
      "20/20 [==============================] - 0s 7ms/step - loss: 0.8963 - accuracy: 0.0000e+00 - val_loss: 1.3812 - val_accuracy: 0.0000e+00\n",
      "Epoch 27/100\n",
      "20/20 [==============================] - 0s 6ms/step - loss: 0.8834 - accuracy: 0.0000e+00 - val_loss: 1.3276 - val_accuracy: 0.0000e+00\n",
      "Epoch 28/100\n",
      "20/20 [==============================] - 0s 6ms/step - loss: 0.8951 - accuracy: 0.0000e+00 - val_loss: 1.3031 - val_accuracy: 0.0000e+00\n",
      "Epoch 29/100\n",
      "20/20 [==============================] - 0s 7ms/step - loss: 0.9088 - accuracy: 0.0000e+00 - val_loss: 1.1505 - val_accuracy: 0.0000e+00\n",
      "Epoch 30/100\n",
      "20/20 [==============================] - 0s 7ms/step - loss: 0.9104 - accuracy: 0.0000e+00 - val_loss: 1.3085 - val_accuracy: 0.0000e+00\n",
      "Epoch 31/100\n",
      "20/20 [==============================] - 0s 6ms/step - loss: 0.8812 - accuracy: 0.0000e+00 - val_loss: 1.2244 - val_accuracy: 0.0000e+00\n",
      "Epoch 32/100\n",
      "20/20 [==============================] - 0s 6ms/step - loss: 0.8777 - accuracy: 0.0000e+00 - val_loss: 1.2137 - val_accuracy: 0.0000e+00\n",
      "Epoch 33/100\n",
      "20/20 [==============================] - 0s 6ms/step - loss: 0.8676 - accuracy: 0.0000e+00 - val_loss: 1.3570 - val_accuracy: 0.0000e+00\n",
      "Epoch 34/100\n",
      "20/20 [==============================] - 0s 6ms/step - loss: 0.8944 - accuracy: 0.0000e+00 - val_loss: 1.4533 - val_accuracy: 0.0000e+00\n",
      "Epoch 35/100\n",
      "20/20 [==============================] - 0s 6ms/step - loss: 0.9297 - accuracy: 0.0000e+00 - val_loss: 1.1384 - val_accuracy: 0.0000e+00\n",
      "Epoch 36/100\n",
      "20/20 [==============================] - 0s 6ms/step - loss: 0.8787 - accuracy: 0.0000e+00 - val_loss: 1.2675 - val_accuracy: 0.0000e+00\n",
      "Epoch 37/100\n",
      "20/20 [==============================] - 0s 6ms/step - loss: 0.8720 - accuracy: 0.0000e+00 - val_loss: 1.2833 - val_accuracy: 0.0000e+00\n",
      "Epoch 38/100\n",
      "20/20 [==============================] - 0s 6ms/step - loss: 0.8596 - accuracy: 0.0000e+00 - val_loss: 1.3086 - val_accuracy: 0.0000e+00\n",
      "Epoch 39/100\n",
      "20/20 [==============================] - 0s 7ms/step - loss: 0.8457 - accuracy: 0.0000e+00 - val_loss: 1.4335 - val_accuracy: 0.0000e+00\n",
      "Epoch 40/100\n",
      "20/20 [==============================] - 0s 6ms/step - loss: 0.8562 - accuracy: 0.0000e+00 - val_loss: 1.3432 - val_accuracy: 0.0000e+00\n",
      "Epoch 41/100\n",
      "20/20 [==============================] - 0s 6ms/step - loss: 0.8460 - accuracy: 0.0000e+00 - val_loss: 1.4070 - val_accuracy: 0.0000e+00\n",
      "Epoch 42/100\n",
      "20/20 [==============================] - 0s 7ms/step - loss: 0.8429 - accuracy: 0.0000e+00 - val_loss: 1.3142 - val_accuracy: 0.0000e+00\n",
      "Epoch 43/100\n",
      "20/20 [==============================] - 0s 6ms/step - loss: 0.8680 - accuracy: 0.0000e+00 - val_loss: 1.3270 - val_accuracy: 0.0000e+00\n",
      "Epoch 44/100\n",
      "20/20 [==============================] - 0s 7ms/step - loss: 0.8785 - accuracy: 0.0000e+00 - val_loss: 1.2811 - val_accuracy: 0.0000e+00\n",
      "Epoch 45/100\n",
      "20/20 [==============================] - 0s 6ms/step - loss: 0.8477 - accuracy: 0.0000e+00 - val_loss: 1.4176 - val_accuracy: 0.0000e+00\n",
      "Epoch 46/100\n",
      "20/20 [==============================] - 0s 7ms/step - loss: 0.8618 - accuracy: 0.0000e+00 - val_loss: 1.3540 - val_accuracy: 0.0000e+00\n",
      "Epoch 47/100\n",
      "20/20 [==============================] - 0s 7ms/step - loss: 0.8478 - accuracy: 0.0000e+00 - val_loss: 1.4987 - val_accuracy: 0.0000e+00\n",
      "Epoch 48/100\n",
      "20/20 [==============================] - 0s 7ms/step - loss: 0.8715 - accuracy: 0.0000e+00 - val_loss: 1.5343 - val_accuracy: 0.0000e+00\n",
      "Epoch 49/100\n",
      "20/20 [==============================] - 0s 7ms/step - loss: 0.8471 - accuracy: 0.0000e+00 - val_loss: 1.2986 - val_accuracy: 0.0000e+00\n",
      "Epoch 50/100\n",
      "20/20 [==============================] - 0s 7ms/step - loss: 0.8689 - accuracy: 0.0000e+00 - val_loss: 1.4417 - val_accuracy: 0.0000e+00\n",
      "Epoch 51/100\n",
      "20/20 [==============================] - 0s 9ms/step - loss: 0.8477 - accuracy: 0.0000e+00 - val_loss: 1.5682 - val_accuracy: 0.0000e+00\n",
      "Epoch 52/100\n",
      "20/20 [==============================] - 0s 7ms/step - loss: 0.8407 - accuracy: 0.0000e+00 - val_loss: 1.5642 - val_accuracy: 0.0000e+00\n",
      "Epoch 53/100\n",
      "20/20 [==============================] - 0s 6ms/step - loss: 0.8644 - accuracy: 0.0000e+00 - val_loss: 1.3196 - val_accuracy: 0.0000e+00\n",
      "Epoch 54/100\n",
      "20/20 [==============================] - 0s 6ms/step - loss: 0.8490 - accuracy: 0.0000e+00 - val_loss: 1.6794 - val_accuracy: 0.0000e+00\n",
      "Epoch 55/100\n",
      "20/20 [==============================] - 0s 6ms/step - loss: 0.8387 - accuracy: 0.0000e+00 - val_loss: 1.7116 - val_accuracy: 0.0000e+00\n"
     ]
    },
    {
     "name": "stdout",
     "output_type": "stream",
     "text": [
      "Epoch 56/100\n",
      "20/20 [==============================] - 0s 7ms/step - loss: 0.8287 - accuracy: 0.0000e+00 - val_loss: 1.7857 - val_accuracy: 0.0000e+00\n",
      "Epoch 57/100\n",
      "20/20 [==============================] - 0s 6ms/step - loss: 0.8468 - accuracy: 0.0000e+00 - val_loss: 1.2185 - val_accuracy: 0.0000e+00\n",
      "Epoch 58/100\n",
      "20/20 [==============================] - 0s 7ms/step - loss: 0.8847 - accuracy: 0.0000e+00 - val_loss: 1.3274 - val_accuracy: 0.0000e+00\n",
      "Epoch 59/100\n",
      "20/20 [==============================] - 0s 7ms/step - loss: 0.9026 - accuracy: 0.0000e+00 - val_loss: 1.3433 - val_accuracy: 0.0000e+00\n",
      "Epoch 60/100\n",
      "20/20 [==============================] - 0s 6ms/step - loss: 0.8813 - accuracy: 0.0000e+00 - val_loss: 1.3734 - val_accuracy: 0.0000e+00\n",
      "Epoch 61/100\n",
      "20/20 [==============================] - 0s 6ms/step - loss: 0.8757 - accuracy: 0.0000e+00 - val_loss: 1.3510 - val_accuracy: 0.0000e+00\n",
      "Epoch 62/100\n",
      "20/20 [==============================] - 0s 6ms/step - loss: 0.8770 - accuracy: 0.0000e+00 - val_loss: 1.2598 - val_accuracy: 0.0000e+00\n",
      "Epoch 63/100\n",
      "20/20 [==============================] - 0s 6ms/step - loss: 0.8749 - accuracy: 0.0000e+00 - val_loss: 1.3396 - val_accuracy: 0.0000e+00\n",
      "Epoch 64/100\n",
      "20/20 [==============================] - 0s 6ms/step - loss: 0.8803 - accuracy: 0.0000e+00 - val_loss: 1.4753 - val_accuracy: 0.0000e+00\n",
      "Epoch 65/100\n",
      "20/20 [==============================] - 0s 6ms/step - loss: 0.9025 - accuracy: 0.0000e+00 - val_loss: 1.3886 - val_accuracy: 0.0000e+00\n",
      "Epoch 66/100\n",
      "20/20 [==============================] - 0s 6ms/step - loss: 0.8600 - accuracy: 0.0000e+00 - val_loss: 1.3305 - val_accuracy: 0.0000e+00\n",
      "Epoch 67/100\n",
      "20/20 [==============================] - 0s 7ms/step - loss: 0.8632 - accuracy: 0.0000e+00 - val_loss: 1.3335 - val_accuracy: 0.0000e+00\n",
      "Epoch 68/100\n",
      "20/20 [==============================] - 0s 6ms/step - loss: 0.8423 - accuracy: 0.0000e+00 - val_loss: 1.4720 - val_accuracy: 0.0000e+00\n",
      "Epoch 69/100\n",
      "20/20 [==============================] - 0s 6ms/step - loss: 0.8755 - accuracy: 0.0000e+00 - val_loss: 1.1954 - val_accuracy: 0.0000e+00\n",
      "Epoch 70/100\n",
      "20/20 [==============================] - 0s 6ms/step - loss: 0.8593 - accuracy: 0.0000e+00 - val_loss: 1.4521 - val_accuracy: 0.0000e+00\n",
      "Epoch 71/100\n",
      "20/20 [==============================] - 0s 5ms/step - loss: 0.8480 - accuracy: 0.0000e+00 - val_loss: 1.4723 - val_accuracy: 0.0000e+00\n",
      "Epoch 72/100\n",
      "20/20 [==============================] - 0s 5ms/step - loss: 0.8408 - accuracy: 0.0000e+00 - val_loss: 1.5293 - val_accuracy: 0.0000e+00\n",
      "Epoch 73/100\n",
      "20/20 [==============================] - 0s 6ms/step - loss: 0.8515 - accuracy: 0.0000e+00 - val_loss: 1.4301 - val_accuracy: 0.0000e+00\n",
      "Epoch 74/100\n",
      "20/20 [==============================] - 0s 6ms/step - loss: 0.8296 - accuracy: 0.0000e+00 - val_loss: 1.5078 - val_accuracy: 0.0000e+00\n",
      "Epoch 75/100\n",
      "20/20 [==============================] - 0s 5ms/step - loss: 0.8304 - accuracy: 0.0000e+00 - val_loss: 1.4350 - val_accuracy: 0.0000e+00\n",
      "Epoch 76/100\n",
      "20/20 [==============================] - 0s 6ms/step - loss: 0.8316 - accuracy: 0.0000e+00 - val_loss: 1.4402 - val_accuracy: 0.0000e+00\n",
      "Epoch 77/100\n",
      "20/20 [==============================] - 0s 7ms/step - loss: 0.8284 - accuracy: 0.0000e+00 - val_loss: 1.5049 - val_accuracy: 0.0000e+00\n",
      "Epoch 78/100\n",
      "20/20 [==============================] - 0s 5ms/step - loss: 0.8243 - accuracy: 0.0000e+00 - val_loss: 1.5443 - val_accuracy: 0.0000e+00\n",
      "Epoch 79/100\n",
      "20/20 [==============================] - 0s 5ms/step - loss: 0.8498 - accuracy: 0.0000e+00 - val_loss: 1.3184 - val_accuracy: 0.0000e+00\n",
      "Epoch 80/100\n",
      "20/20 [==============================] - 0s 6ms/step - loss: 0.8506 - accuracy: 0.0000e+00 - val_loss: 1.3116 - val_accuracy: 0.0000e+00\n",
      "Epoch 81/100\n",
      "20/20 [==============================] - 0s 6ms/step - loss: 0.8433 - accuracy: 0.0000e+00 - val_loss: 1.6624 - val_accuracy: 0.0000e+00\n",
      "Epoch 82/100\n",
      "20/20 [==============================] - 0s 6ms/step - loss: 0.8356 - accuracy: 0.0000e+00 - val_loss: 1.4039 - val_accuracy: 0.0000e+00\n",
      "Epoch 83/100\n",
      "20/20 [==============================] - 0s 6ms/step - loss: 0.8358 - accuracy: 0.0000e+00 - val_loss: 1.4539 - val_accuracy: 0.0000e+00\n",
      "Epoch 84/100\n",
      "20/20 [==============================] - 0s 5ms/step - loss: 0.8292 - accuracy: 0.0000e+00 - val_loss: 1.4444 - val_accuracy: 0.0000e+00\n",
      "Epoch 85/100\n",
      "20/20 [==============================] - 0s 6ms/step - loss: 0.8224 - accuracy: 0.0000e+00 - val_loss: 1.3255 - val_accuracy: 0.0000e+00\n",
      "Epoch 86/100\n",
      "20/20 [==============================] - 0s 6ms/step - loss: 0.8516 - accuracy: 0.0000e+00 - val_loss: 1.3098 - val_accuracy: 0.0000e+00\n",
      "Epoch 87/100\n",
      "20/20 [==============================] - 0s 6ms/step - loss: 0.8388 - accuracy: 0.0000e+00 - val_loss: 1.4355 - val_accuracy: 0.0000e+00\n",
      "Epoch 88/100\n",
      "20/20 [==============================] - 0s 6ms/step - loss: 0.8459 - accuracy: 0.0000e+00 - val_loss: 1.3581 - val_accuracy: 0.0000e+00\n",
      "Epoch 89/100\n",
      "20/20 [==============================] - 0s 7ms/step - loss: 0.8435 - accuracy: 0.0000e+00 - val_loss: 1.3493 - val_accuracy: 0.0000e+00\n",
      "Epoch 90/100\n",
      "20/20 [==============================] - 0s 6ms/step - loss: 0.8138 - accuracy: 0.0000e+00 - val_loss: 1.4356 - val_accuracy: 0.0000e+00\n",
      "Epoch 91/100\n",
      "20/20 [==============================] - 0s 6ms/step - loss: 0.8447 - accuracy: 0.0000e+00 - val_loss: 1.3931 - val_accuracy: 0.0000e+00\n",
      "Epoch 92/100\n",
      "20/20 [==============================] - 0s 6ms/step - loss: 0.8388 - accuracy: 0.0000e+00 - val_loss: 1.4515 - val_accuracy: 0.0000e+00\n",
      "Epoch 93/100\n",
      "20/20 [==============================] - 0s 6ms/step - loss: 0.8228 - accuracy: 0.0000e+00 - val_loss: 1.4622 - val_accuracy: 0.0000e+00\n",
      "Epoch 94/100\n",
      "20/20 [==============================] - 0s 9ms/step - loss: 0.8307 - accuracy: 0.0000e+00 - val_loss: 1.4441 - val_accuracy: 0.0000e+00\n",
      "Epoch 95/100\n",
      "20/20 [==============================] - 0s 8ms/step - loss: 0.8564 - accuracy: 0.0000e+00 - val_loss: 1.5221 - val_accuracy: 0.0000e+00\n",
      "Epoch 96/100\n",
      "20/20 [==============================] - 0s 6ms/step - loss: 0.8211 - accuracy: 0.0000e+00 - val_loss: 1.3774 - val_accuracy: 0.0000e+00\n",
      "Epoch 97/100\n",
      "20/20 [==============================] - 0s 7ms/step - loss: 0.8483 - accuracy: 0.0000e+00 - val_loss: 1.5625 - val_accuracy: 0.0000e+00\n",
      "Epoch 98/100\n",
      "20/20 [==============================] - 0s 8ms/step - loss: 0.8166 - accuracy: 0.0000e+00 - val_loss: 1.4369 - val_accuracy: 0.0000e+00\n",
      "Epoch 99/100\n",
      "20/20 [==============================] - 0s 5ms/step - loss: 0.8196 - accuracy: 0.0000e+00 - val_loss: 1.5415 - val_accuracy: 0.0000e+00\n",
      "Epoch 100/100\n",
      "20/20 [==============================] - 0s 7ms/step - loss: 0.8350 - accuracy: 0.0000e+00 - val_loss: 1.5046 - val_accuracy: 0.0000e+00\n"
     ]
    }
   ],
   "source": [
    "### try autoregressive RNN model\n",
    "i = Input(shape=(T, 1))\n",
    "x = LSTM(5)(i)\n",
    "x = Dense(1)(x)\n",
    "model = Model(i, x)\n",
    "model.compile(loss='mse', optimizer=Adam(lr=0.1), metrics=['accuracy'])\n",
    "\n",
    "# train the RNN\n",
    "r = model.fit(X[:-N//2], Y[:-N//2], epochs=100, validation_data=(X[-N//2:], Y[-N//2:]))"
   ]
  },
  {
   "cell_type": "code",
   "execution_count": 32,
   "metadata": {
    "colab": {
     "base_uri": "https://localhost:8080/",
     "height": 282
    },
    "colab_type": "code",
    "id": "vYacDLhxdgua",
    "outputId": "f71e71e9-6b71-4093-e83d-91a441336ecc"
   },
   "outputs": [
    {
     "data": {
      "text/plain": [
       "<matplotlib.legend.Legend at 0x7f86da4a25b0>"
      ]
     },
     "execution_count": 32,
     "metadata": {},
     "output_type": "execute_result"
    },
    {
     "data": {
      "image/png": "[encoded data removed]",
      "text/plain": [
       "<Figure size 432x288 with 1 Axes>"
      ]
     },
     "metadata": {
      "needs_background": "light"
     },
     "output_type": "display_data"
    }
   ],
   "source": [
    "# plot accuracy per iteration\n",
    "plt.plot(r.history['loss'], label='loss')\n",
    "plt.plot(r.history['val_loss'], label='val_loss')\n",
    "plt.legend()"
   ]
  },
  {
   "cell_type": "code",
   "execution_count": 33,
   "metadata": {
    "colab": {
     "base_uri": "https://localhost:8080/",
     "height": 282
    },
    "colab_type": "code",
    "id": "LhocvdXqdroK",
    "outputId": "797fc1b0-8454-4510-8d39-53b311c0035e"
   },
   "outputs": [
    {
     "data": {
      "image/png": "[encoded data removed]",
      "text/plain": [
       "<Figure size 432x288 with 1 Axes>"
      ]
     },
     "metadata": {
      "needs_background": "light"
     },
     "output_type": "display_data"
    }
   ],
   "source": [
    "# One-step forecast using true targets\n",
    "predicts = model.predict(X)\n",
    "predicts.shape\n",
    "final_predictions = predicts[:, 0]\n",
    "\n",
    "plt.plot(Y, label='targets')\n",
    "plt.plot(final_predictions, label='predictions')\n",
    "plt.legend()\n",
    "plt.show()"
   ]
  },
  {
   "cell_type": "code",
   "execution_count": 34,
   "metadata": {
    "colab": {
     "base_uri": "https://localhost:8080/",
     "height": 282
    },
    "colab_type": "code",
    "id": "4UHl9Vikd7s3",
    "outputId": "a3764a7d-5017-4805-c0f6-62db81d83cf5"
   },
   "outputs": [
    {
     "data": {
      "image/png": "[encoded data removed]",
      "text/plain": [
       "<Figure size 432x288 with 1 Axes>"
      ]
     },
     "metadata": {
      "needs_background": "light"
     },
     "output_type": "display_data"
    }
   ],
   "source": [
    "# Multi-step forecast\n",
    "validation_target = Y[-N//2:]\n",
    "validation_predictions = []\n",
    "\n",
    "# last train input\n",
    "last_x = X[-N//2]\n",
    "\n",
    "while len(validation_predictions) < len(validation_target):\n",
    "    p = model.predict(last_x.reshape(1, T, 1))[0,0]\n",
    "    validation_predictions.append(p)\n",
    "    \n",
    "    last_x = np.roll(last_x, -1)\n",
    "    last_x[-1] = p\n",
    "\n",
    "plt.plot(validation_target, label='targets')\n",
    "plt.plot(validation_predictions, label='predictions')\n",
    "plt.legend()\n",
    "plt.show()"
   ]
  },
  {
   "cell_type": "code",
   "execution_count": 35,
   "metadata": {
    "colab": {},
    "colab_type": "code",
    "id": "4coM4e0GeMtV"
   },
   "outputs": [],
   "source": [
    "# Now turn the full data into numpy arrays\n",
    "\n",
    "# Not yet in the final \"X\" format\n",
    "input_data = df[['open', 'high', 'low', 'close', 'volume']].values\n",
    "targets = df['Return'].values"
   ]
  },
  {
   "cell_type": "code",
   "execution_count": 36,
   "metadata": {
    "colab": {},
    "colab_type": "code",
    "id": "rsg9kR83fD4J"
   },
   "outputs": [],
   "source": [
    "# Now make the actual data which will go into the nerual network\n",
    "T = 10 # the number of time steps to look at to make a prediction for the next day\n",
    "D = input_data.shape[1]\n",
    "N = len(input_data) - T"
   ]
  },
  {
   "cell_type": "code",
   "execution_count": 37,
   "metadata": {
    "colab": {},
    "colab_type": "code",
    "id": "J6FffWSmf7KH"
   },
   "outputs": [],
   "source": [
    "# normalize the inputs\n",
    "Ntrain = len(input_data) * 2// 3\n",
    "scaler = StandardScaler()\n",
    "scaler.fit(input_data[:Ntrain + T])\n",
    "input_data = scaler.transform(input_data)"
   ]
  },
  {
   "cell_type": "code",
   "execution_count": 38,
   "metadata": {
    "colab": {},
    "colab_type": "code",
    "id": "r-O-nVBXgMCO"
   },
   "outputs": [],
   "source": [
    "# Setup X_train and Y_train\n",
    "X_train = np.zeros((Ntrain, T, D))\n",
    "Y_train = np.zeros(Ntrain)\n",
    "\n",
    "for t in range(Ntrain):\n",
    "  X_train[t, :, :] = input_data[t:t+T]\n",
    "  Y_train[t] = (targets[t+T] > 0)"
   ]
  },
  {
   "cell_type": "code",
   "execution_count": 39,
   "metadata": {
    "colab": {},
    "colab_type": "code",
    "id": "iIku2lEmgcaU"
   },
   "outputs": [],
   "source": [
    "# Setup X_test and Y_test\n",
    "X_test = np.zeros((N - Ntrain, T, D))\n",
    "Y_test = np.zeros(N -Ntrain)\n",
    "\n",
    "for u in range(N - Ntrain):\n",
    "  # u counts from 0...(N-Ntrain)\n",
    "  # t counts from Ntrain...N\n",
    "  t = u + Ntrain\n",
    "  X_test[u, :, :] = input_data[t:t+T]\n",
    "  Y_test[u] = (targets[t+T] > 0)"
   ]
  },
  {
   "cell_type": "code",
   "execution_count": 40,
   "metadata": {
    "colab": {},
    "colab_type": "code",
    "id": "vWQ7JNCThCGy"
   },
   "outputs": [
    {
     "name": "stderr",
     "output_type": "stream",
     "text": [
      "/opt/anaconda3/lib/python3.8/site-packages/keras/optimizer_v2/adam.py:105: UserWarning: The `lr` argument is deprecated, use `learning_rate` instead.\n",
      "  super(Adam, self).__init__(name, **kwargs)\n"
     ]
    }
   ],
   "source": [
    "# make the RNN\n",
    "i = Input(shape=(T, D))\n",
    "x = LSTM(50)(i)\n",
    "x = Dense(1, activation='sigmoid')(x)\n",
    "model = Model(i, x)\n",
    "model.compile(\n",
    "    loss='binary_crossentropy',\n",
    "    optimizer=Adam(lr=0.001),\n",
    "    metrics=['accuracy']\n",
    ")"
   ]
  },
  {
   "cell_type": "code",
   "execution_count": 41,
   "metadata": {
    "colab": {
     "base_uri": "https://localhost:8080/",
     "height": 1000
    },
    "colab_type": "code",
    "id": "N3jE4YxLhk29",
    "outputId": "fd09563f-0f32-49bc-815f-2ab579e741c0"
   },
   "outputs": [
    {
     "name": "stdout",
     "output_type": "stream",
     "text": [
      "Epoch 1/300\n",
      "27/27 [==============================] - 2s 20ms/step - loss: 0.6970 - accuracy: 0.5006 - val_loss: 0.6949 - val_accuracy: 0.4537\n",
      "Epoch 2/300\n",
      "27/27 [==============================] - 0s 9ms/step - loss: 0.6937 - accuracy: 0.5173 - val_loss: 0.6969 - val_accuracy: 0.4854\n",
      "Epoch 3/300\n",
      "27/27 [==============================] - 0s 7ms/step - loss: 0.6921 - accuracy: 0.5089 - val_loss: 0.6952 - val_accuracy: 0.4951\n",
      "Epoch 4/300\n",
      "27/27 [==============================] - 0s 7ms/step - loss: 0.6930 - accuracy: 0.5221 - val_loss: 0.6931 - val_accuracy: 0.4951\n",
      "Epoch 5/300\n",
      "27/27 [==============================] - 0s 5ms/step - loss: 0.6932 - accuracy: 0.4982 - val_loss: 0.6963 - val_accuracy: 0.4902\n",
      "Epoch 6/300\n",
      "27/27 [==============================] - 0s 5ms/step - loss: 0.6906 - accuracy: 0.5387 - val_loss: 0.6930 - val_accuracy: 0.5024\n",
      "Epoch 7/300\n",
      "27/27 [==============================] - 0s 6ms/step - loss: 0.6919 - accuracy: 0.5268 - val_loss: 0.6915 - val_accuracy: 0.5220\n",
      "Epoch 8/300\n",
      "27/27 [==============================] - 0s 5ms/step - loss: 0.6964 - accuracy: 0.5066 - val_loss: 0.6953 - val_accuracy: 0.4976\n",
      "Epoch 9/300\n",
      "27/27 [==============================] - 0s 5ms/step - loss: 0.6891 - accuracy: 0.5256 - val_loss: 0.6981 - val_accuracy: 0.4878\n",
      "Epoch 10/300\n",
      "27/27 [==============================] - 0s 5ms/step - loss: 0.6885 - accuracy: 0.5518 - val_loss: 0.6912 - val_accuracy: 0.5317\n",
      "Epoch 11/300\n",
      "27/27 [==============================] - 0s 5ms/step - loss: 0.6886 - accuracy: 0.5197 - val_loss: 0.6943 - val_accuracy: 0.4951\n",
      "Epoch 12/300\n",
      "27/27 [==============================] - 0s 5ms/step - loss: 0.6887 - accuracy: 0.5137 - val_loss: 0.6924 - val_accuracy: 0.5195\n",
      "Epoch 13/300\n",
      "27/27 [==============================] - 0s 5ms/step - loss: 0.6874 - accuracy: 0.5387 - val_loss: 0.6927 - val_accuracy: 0.5049\n",
      "Epoch 14/300\n",
      "27/27 [==============================] - 0s 5ms/step - loss: 0.6864 - accuracy: 0.5507 - val_loss: 0.6968 - val_accuracy: 0.4902\n",
      "Epoch 15/300\n",
      "27/27 [==============================] - 0s 5ms/step - loss: 0.6881 - accuracy: 0.5221 - val_loss: 0.6943 - val_accuracy: 0.4927\n",
      "Epoch 16/300\n",
      "27/27 [==============================] - 0s 5ms/step - loss: 0.6872 - accuracy: 0.5364 - val_loss: 0.6951 - val_accuracy: 0.4878\n",
      "Epoch 17/300\n",
      "27/27 [==============================] - 0s 5ms/step - loss: 0.6866 - accuracy: 0.5459 - val_loss: 0.6905 - val_accuracy: 0.5439\n",
      "Epoch 18/300\n",
      "27/27 [==============================] - 0s 5ms/step - loss: 0.6883 - accuracy: 0.5423 - val_loss: 0.6957 - val_accuracy: 0.4902\n",
      "Epoch 19/300\n",
      "27/27 [==============================] - 0s 5ms/step - loss: 0.6879 - accuracy: 0.5554 - val_loss: 0.6929 - val_accuracy: 0.5146\n",
      "Epoch 20/300\n",
      "27/27 [==============================] - 0s 5ms/step - loss: 0.6859 - accuracy: 0.5447 - val_loss: 0.6962 - val_accuracy: 0.4902\n",
      "Epoch 21/300\n",
      "27/27 [==============================] - 0s 4ms/step - loss: 0.6848 - accuracy: 0.5554 - val_loss: 0.6921 - val_accuracy: 0.5171\n",
      "Epoch 22/300\n",
      "27/27 [==============================] - 0s 5ms/step - loss: 0.6886 - accuracy: 0.5375 - val_loss: 0.6981 - val_accuracy: 0.5000\n",
      "Epoch 23/300\n",
      "27/27 [==============================] - 0s 5ms/step - loss: 0.6850 - accuracy: 0.5530 - val_loss: 0.6916 - val_accuracy: 0.5317\n",
      "Epoch 24/300\n",
      "27/27 [==============================] - 0s 5ms/step - loss: 0.6851 - accuracy: 0.5507 - val_loss: 0.6959 - val_accuracy: 0.4878\n",
      "Epoch 25/300\n",
      "27/27 [==============================] - 0s 9ms/step - loss: 0.6856 - accuracy: 0.5542 - val_loss: 0.6923 - val_accuracy: 0.5366\n",
      "Epoch 26/300\n",
      "27/27 [==============================] - 0s 7ms/step - loss: 0.6845 - accuracy: 0.5590 - val_loss: 0.6931 - val_accuracy: 0.5317\n",
      "Epoch 27/300\n",
      "27/27 [==============================] - 0s 6ms/step - loss: 0.6856 - accuracy: 0.5662 - val_loss: 0.6974 - val_accuracy: 0.4878\n",
      "Epoch 28/300\n",
      "27/27 [==============================] - 0s 6ms/step - loss: 0.6830 - accuracy: 0.5733 - val_loss: 0.6957 - val_accuracy: 0.4902\n",
      "Epoch 29/300\n",
      "27/27 [==============================] - 0s 5ms/step - loss: 0.6834 - accuracy: 0.5638 - val_loss: 0.6917 - val_accuracy: 0.5341\n",
      "Epoch 30/300\n",
      "27/27 [==============================] - 0s 5ms/step - loss: 0.6829 - accuracy: 0.5733 - val_loss: 0.6965 - val_accuracy: 0.4902\n",
      "Epoch 31/300\n",
      "27/27 [==============================] - 0s 5ms/step - loss: 0.6830 - accuracy: 0.5518 - val_loss: 0.6936 - val_accuracy: 0.5220\n",
      "Epoch 32/300\n",
      "27/27 [==============================] - 0s 5ms/step - loss: 0.6816 - accuracy: 0.5840 - val_loss: 0.6941 - val_accuracy: 0.5220\n",
      "Epoch 33/300\n",
      "27/27 [==============================] - 0s 5ms/step - loss: 0.6807 - accuracy: 0.5793 - val_loss: 0.6942 - val_accuracy: 0.5268\n",
      "Epoch 34/300\n",
      "27/27 [==============================] - 0s 5ms/step - loss: 0.6808 - accuracy: 0.5757 - val_loss: 0.6983 - val_accuracy: 0.4927\n",
      "Epoch 35/300\n",
      "27/27 [==============================] - 0s 5ms/step - loss: 0.6805 - accuracy: 0.5471 - val_loss: 0.6932 - val_accuracy: 0.5268\n",
      "Epoch 36/300\n",
      "27/27 [==============================] - 0s 5ms/step - loss: 0.6813 - accuracy: 0.5638 - val_loss: 0.6958 - val_accuracy: 0.5049\n",
      "Epoch 37/300\n",
      "27/27 [==============================] - 0s 5ms/step - loss: 0.6787 - accuracy: 0.5876 - val_loss: 0.6953 - val_accuracy: 0.5268\n",
      "Epoch 38/300\n",
      "27/27 [==============================] - 0s 5ms/step - loss: 0.6806 - accuracy: 0.5769 - val_loss: 0.6975 - val_accuracy: 0.5024\n",
      "Epoch 39/300\n",
      "27/27 [==============================] - 0s 5ms/step - loss: 0.6786 - accuracy: 0.5948 - val_loss: 0.6953 - val_accuracy: 0.5244\n",
      "Epoch 40/300\n",
      "27/27 [==============================] - 0s 5ms/step - loss: 0.6775 - accuracy: 0.5816 - val_loss: 0.6965 - val_accuracy: 0.5268\n",
      "Epoch 41/300\n",
      "27/27 [==============================] - 0s 5ms/step - loss: 0.6768 - accuracy: 0.5673 - val_loss: 0.6975 - val_accuracy: 0.5098\n",
      "Epoch 42/300\n",
      "27/27 [==============================] - 0s 5ms/step - loss: 0.6766 - accuracy: 0.5769 - val_loss: 0.6985 - val_accuracy: 0.5049\n",
      "Epoch 43/300\n",
      "27/27 [==============================] - 0s 5ms/step - loss: 0.6767 - accuracy: 0.5602 - val_loss: 0.6966 - val_accuracy: 0.5122\n",
      "Epoch 44/300\n",
      "27/27 [==============================] - 0s 5ms/step - loss: 0.6760 - accuracy: 0.5650 - val_loss: 0.7002 - val_accuracy: 0.5000\n",
      "Epoch 45/300\n",
      "27/27 [==============================] - 0s 5ms/step - loss: 0.6758 - accuracy: 0.5626 - val_loss: 0.6978 - val_accuracy: 0.5293\n",
      "Epoch 46/300\n",
      "27/27 [==============================] - 0s 5ms/step - loss: 0.6732 - accuracy: 0.5709 - val_loss: 0.6958 - val_accuracy: 0.5293\n",
      "Epoch 47/300\n",
      "27/27 [==============================] - 0s 7ms/step - loss: 0.6742 - accuracy: 0.5709 - val_loss: 0.6968 - val_accuracy: 0.5195\n",
      "Epoch 48/300\n",
      "27/27 [==============================] - 0s 6ms/step - loss: 0.6734 - accuracy: 0.5805 - val_loss: 0.7010 - val_accuracy: 0.5024\n",
      "Epoch 49/300\n",
      "27/27 [==============================] - 0s 6ms/step - loss: 0.6733 - accuracy: 0.5745 - val_loss: 0.7034 - val_accuracy: 0.4976\n",
      "Epoch 50/300\n",
      "27/27 [==============================] - 0s 5ms/step - loss: 0.6733 - accuracy: 0.5781 - val_loss: 0.6975 - val_accuracy: 0.5171\n",
      "Epoch 51/300\n",
      "27/27 [==============================] - 0s 5ms/step - loss: 0.6708 - accuracy: 0.5721 - val_loss: 0.6994 - val_accuracy: 0.5073\n",
      "Epoch 52/300\n",
      "27/27 [==============================] - 0s 5ms/step - loss: 0.6721 - accuracy: 0.5650 - val_loss: 0.7004 - val_accuracy: 0.5122\n",
      "Epoch 53/300\n",
      "27/27 [==============================] - 0s 4ms/step - loss: 0.6696 - accuracy: 0.5745 - val_loss: 0.7014 - val_accuracy: 0.5171\n",
      "Epoch 54/300\n",
      "27/27 [==============================] - 0s 5ms/step - loss: 0.6695 - accuracy: 0.5888 - val_loss: 0.7037 - val_accuracy: 0.5171\n",
      "Epoch 55/300\n",
      "27/27 [==============================] - 0s 4ms/step - loss: 0.6687 - accuracy: 0.5793 - val_loss: 0.7058 - val_accuracy: 0.4927\n",
      "Epoch 56/300\n",
      "27/27 [==============================] - 0s 4ms/step - loss: 0.6662 - accuracy: 0.5852 - val_loss: 0.7023 - val_accuracy: 0.5098\n",
      "Epoch 57/300\n",
      "27/27 [==============================] - 0s 4ms/step - loss: 0.6682 - accuracy: 0.5745 - val_loss: 0.7032 - val_accuracy: 0.5195\n",
      "Epoch 58/300\n",
      "27/27 [==============================] - 0s 5ms/step - loss: 0.6688 - accuracy: 0.5816 - val_loss: 0.7056 - val_accuracy: 0.5000\n"
     ]
    },
    {
     "name": "stdout",
     "output_type": "stream",
     "text": [
      "Epoch 59/300\n",
      "27/27 [==============================] - 0s 5ms/step - loss: 0.6688 - accuracy: 0.5828 - val_loss: 0.7043 - val_accuracy: 0.5024\n",
      "Epoch 60/300\n",
      "27/27 [==============================] - 0s 5ms/step - loss: 0.6629 - accuracy: 0.5840 - val_loss: 0.6989 - val_accuracy: 0.5073\n",
      "Epoch 61/300\n",
      "27/27 [==============================] - 0s 4ms/step - loss: 0.6606 - accuracy: 0.5888 - val_loss: 0.7061 - val_accuracy: 0.4951\n",
      "Epoch 62/300\n",
      "27/27 [==============================] - 0s 5ms/step - loss: 0.6632 - accuracy: 0.5828 - val_loss: 0.7082 - val_accuracy: 0.5098\n",
      "Epoch 63/300\n",
      "27/27 [==============================] - 0s 5ms/step - loss: 0.6616 - accuracy: 0.5864 - val_loss: 0.7102 - val_accuracy: 0.4878\n",
      "Epoch 64/300\n",
      "27/27 [==============================] - 0s 5ms/step - loss: 0.6607 - accuracy: 0.5971 - val_loss: 0.7107 - val_accuracy: 0.5024\n",
      "Epoch 65/300\n",
      "27/27 [==============================] - 0s 5ms/step - loss: 0.6600 - accuracy: 0.5995 - val_loss: 0.7089 - val_accuracy: 0.5049\n",
      "Epoch 66/300\n",
      "27/27 [==============================] - 0s 5ms/step - loss: 0.6580 - accuracy: 0.5900 - val_loss: 0.7121 - val_accuracy: 0.4854\n",
      "Epoch 67/300\n",
      "27/27 [==============================] - 0s 5ms/step - loss: 0.6577 - accuracy: 0.5995 - val_loss: 0.7077 - val_accuracy: 0.4902\n",
      "Epoch 68/300\n",
      "27/27 [==============================] - 0s 10ms/step - loss: 0.6554 - accuracy: 0.6126 - val_loss: 0.7098 - val_accuracy: 0.4951\n",
      "Epoch 69/300\n",
      "27/27 [==============================] - 0s 7ms/step - loss: 0.6525 - accuracy: 0.6019 - val_loss: 0.7140 - val_accuracy: 0.4902\n",
      "Epoch 70/300\n",
      "27/27 [==============================] - 0s 7ms/step - loss: 0.6551 - accuracy: 0.6055 - val_loss: 0.7124 - val_accuracy: 0.4732\n",
      "Epoch 71/300\n",
      "27/27 [==============================] - 0s 6ms/step - loss: 0.6490 - accuracy: 0.5995 - val_loss: 0.7179 - val_accuracy: 0.4927\n",
      "Epoch 72/300\n",
      "27/27 [==============================] - 0s 6ms/step - loss: 0.6525 - accuracy: 0.6031 - val_loss: 0.7166 - val_accuracy: 0.4805\n",
      "Epoch 73/300\n",
      "27/27 [==============================] - 0s 5ms/step - loss: 0.6510 - accuracy: 0.6067 - val_loss: 0.7131 - val_accuracy: 0.4878\n",
      "Epoch 74/300\n",
      "27/27 [==============================] - 0s 5ms/step - loss: 0.6497 - accuracy: 0.6126 - val_loss: 0.7211 - val_accuracy: 0.4805\n",
      "Epoch 75/300\n",
      "27/27 [==============================] - 0s 4ms/step - loss: 0.6463 - accuracy: 0.6174 - val_loss: 0.7196 - val_accuracy: 0.4659\n",
      "Epoch 76/300\n",
      "27/27 [==============================] - 0s 4ms/step - loss: 0.6437 - accuracy: 0.6174 - val_loss: 0.7198 - val_accuracy: 0.4805\n",
      "Epoch 77/300\n",
      "27/27 [==============================] - 0s 4ms/step - loss: 0.6447 - accuracy: 0.6031 - val_loss: 0.7267 - val_accuracy: 0.4780\n",
      "Epoch 78/300\n",
      "27/27 [==============================] - 0s 4ms/step - loss: 0.6451 - accuracy: 0.6222 - val_loss: 0.7234 - val_accuracy: 0.4683\n",
      "Epoch 79/300\n",
      "27/27 [==============================] - 0s 5ms/step - loss: 0.6395 - accuracy: 0.6293 - val_loss: 0.7289 - val_accuracy: 0.4805\n",
      "Epoch 80/300\n",
      "27/27 [==============================] - 0s 5ms/step - loss: 0.6407 - accuracy: 0.6210 - val_loss: 0.7223 - val_accuracy: 0.4780\n",
      "Epoch 81/300\n",
      "27/27 [==============================] - 0s 4ms/step - loss: 0.6434 - accuracy: 0.6269 - val_loss: 0.7274 - val_accuracy: 0.4854\n",
      "Epoch 82/300\n",
      "27/27 [==============================] - 0s 5ms/step - loss: 0.6377 - accuracy: 0.6174 - val_loss: 0.7265 - val_accuracy: 0.5073\n",
      "Epoch 83/300\n",
      "27/27 [==============================] - 0s 4ms/step - loss: 0.6364 - accuracy: 0.6210 - val_loss: 0.7289 - val_accuracy: 0.4756\n",
      "Epoch 84/300\n",
      "27/27 [==============================] - 0s 5ms/step - loss: 0.6310 - accuracy: 0.6305 - val_loss: 0.7362 - val_accuracy: 0.4732\n",
      "Epoch 85/300\n",
      "27/27 [==============================] - 0s 4ms/step - loss: 0.6316 - accuracy: 0.6293 - val_loss: 0.7298 - val_accuracy: 0.4780\n",
      "Epoch 86/300\n",
      "27/27 [==============================] - 0s 4ms/step - loss: 0.6359 - accuracy: 0.6079 - val_loss: 0.7394 - val_accuracy: 0.4659\n",
      "Epoch 87/300\n",
      "27/27 [==============================] - 0s 5ms/step - loss: 0.6351 - accuracy: 0.6329 - val_loss: 0.7332 - val_accuracy: 0.4805\n",
      "Epoch 88/300\n",
      "27/27 [==============================] - 0s 5ms/step - loss: 0.6290 - accuracy: 0.6257 - val_loss: 0.7404 - val_accuracy: 0.4732\n",
      "Epoch 89/300\n",
      "27/27 [==============================] - 0s 5ms/step - loss: 0.6260 - accuracy: 0.6269 - val_loss: 0.7388 - val_accuracy: 0.4951\n",
      "Epoch 90/300\n",
      "27/27 [==============================] - 0s 5ms/step - loss: 0.6221 - accuracy: 0.6520 - val_loss: 0.7405 - val_accuracy: 0.4829\n",
      "Epoch 91/300\n",
      "27/27 [==============================] - 0s 5ms/step - loss: 0.6215 - accuracy: 0.6472 - val_loss: 0.7404 - val_accuracy: 0.4927\n",
      "Epoch 92/300\n",
      "27/27 [==============================] - 0s 5ms/step - loss: 0.6163 - accuracy: 0.6460 - val_loss: 0.7436 - val_accuracy: 0.4756\n",
      "Epoch 93/300\n",
      "27/27 [==============================] - 0s 5ms/step - loss: 0.6140 - accuracy: 0.6508 - val_loss: 0.7458 - val_accuracy: 0.4561\n",
      "Epoch 94/300\n",
      "27/27 [==============================] - 0s 5ms/step - loss: 0.6119 - accuracy: 0.6615 - val_loss: 0.7480 - val_accuracy: 0.4634\n",
      "Epoch 95/300\n",
      "27/27 [==============================] - 0s 4ms/step - loss: 0.6123 - accuracy: 0.6532 - val_loss: 0.7576 - val_accuracy: 0.4902\n",
      "Epoch 96/300\n",
      "27/27 [==============================] - 0s 7ms/step - loss: 0.6097 - accuracy: 0.6508 - val_loss: 0.7584 - val_accuracy: 0.4854\n",
      "Epoch 97/300\n",
      "27/27 [==============================] - 0s 7ms/step - loss: 0.6099 - accuracy: 0.6639 - val_loss: 0.7580 - val_accuracy: 0.4878\n",
      "Epoch 98/300\n",
      "27/27 [==============================] - 0s 6ms/step - loss: 0.6065 - accuracy: 0.6544 - val_loss: 0.7477 - val_accuracy: 0.5049\n",
      "Epoch 99/300\n",
      "27/27 [==============================] - 0s 5ms/step - loss: 0.5996 - accuracy: 0.6639 - val_loss: 0.7645 - val_accuracy: 0.4707\n",
      "Epoch 100/300\n",
      "27/27 [==============================] - 0s 5ms/step - loss: 0.6028 - accuracy: 0.6698 - val_loss: 0.7614 - val_accuracy: 0.4610\n",
      "Epoch 101/300\n",
      "27/27 [==============================] - 0s 5ms/step - loss: 0.6044 - accuracy: 0.6603 - val_loss: 0.7540 - val_accuracy: 0.4927\n",
      "Epoch 102/300\n",
      "27/27 [==============================] - 0s 4ms/step - loss: 0.5959 - accuracy: 0.6579 - val_loss: 0.7682 - val_accuracy: 0.4976\n",
      "Epoch 103/300\n",
      "27/27 [==============================] - 0s 5ms/step - loss: 0.5923 - accuracy: 0.6734 - val_loss: 0.7616 - val_accuracy: 0.5024\n",
      "Epoch 104/300\n",
      "27/27 [==============================] - 0s 5ms/step - loss: 0.5947 - accuracy: 0.6651 - val_loss: 0.7680 - val_accuracy: 0.4805\n",
      "Epoch 105/300\n",
      "27/27 [==============================] - 0s 5ms/step - loss: 0.5923 - accuracy: 0.6830 - val_loss: 0.7724 - val_accuracy: 0.4854\n",
      "Epoch 106/300\n",
      "27/27 [==============================] - 0s 4ms/step - loss: 0.5880 - accuracy: 0.6734 - val_loss: 0.7690 - val_accuracy: 0.4951\n",
      "Epoch 107/300\n",
      "27/27 [==============================] - 0s 5ms/step - loss: 0.5978 - accuracy: 0.6627 - val_loss: 0.7688 - val_accuracy: 0.4732\n",
      "Epoch 108/300\n",
      "27/27 [==============================] - 0s 5ms/step - loss: 0.5866 - accuracy: 0.6818 - val_loss: 0.7665 - val_accuracy: 0.4732\n",
      "Epoch 109/300\n",
      "27/27 [==============================] - 0s 4ms/step - loss: 0.5808 - accuracy: 0.6770 - val_loss: 0.7696 - val_accuracy: 0.4976\n",
      "Epoch 110/300\n",
      "27/27 [==============================] - 0s 5ms/step - loss: 0.5797 - accuracy: 0.6806 - val_loss: 0.7741 - val_accuracy: 0.5000\n",
      "Epoch 111/300\n",
      "27/27 [==============================] - 0s 5ms/step - loss: 0.5765 - accuracy: 0.6889 - val_loss: 0.7904 - val_accuracy: 0.4756\n",
      "Epoch 112/300\n",
      "27/27 [==============================] - 0s 4ms/step - loss: 0.5767 - accuracy: 0.6830 - val_loss: 0.7860 - val_accuracy: 0.5073\n",
      "Epoch 113/300\n",
      "27/27 [==============================] - 0s 4ms/step - loss: 0.5737 - accuracy: 0.6853 - val_loss: 0.7743 - val_accuracy: 0.4951\n",
      "Epoch 114/300\n",
      "27/27 [==============================] - 0s 5ms/step - loss: 0.5727 - accuracy: 0.6818 - val_loss: 0.7840 - val_accuracy: 0.4732\n",
      "Epoch 115/300\n",
      "27/27 [==============================] - 0s 5ms/step - loss: 0.5671 - accuracy: 0.6830 - val_loss: 0.7817 - val_accuracy: 0.5073\n",
      "Epoch 116/300\n"
     ]
    },
    {
     "name": "stdout",
     "output_type": "stream",
     "text": [
      "27/27 [==============================] - 0s 5ms/step - loss: 0.5676 - accuracy: 0.6889 - val_loss: 0.7937 - val_accuracy: 0.4976\n",
      "Epoch 117/300\n",
      "27/27 [==============================] - 0s 5ms/step - loss: 0.5599 - accuracy: 0.6949 - val_loss: 0.7822 - val_accuracy: 0.5171\n",
      "Epoch 118/300\n",
      "27/27 [==============================] - 0s 5ms/step - loss: 0.5594 - accuracy: 0.7020 - val_loss: 0.7770 - val_accuracy: 0.5122\n",
      "Epoch 119/300\n",
      "27/27 [==============================] - 0s 5ms/step - loss: 0.5567 - accuracy: 0.7056 - val_loss: 0.7816 - val_accuracy: 0.5122\n",
      "Epoch 120/300\n",
      "27/27 [==============================] - 0s 5ms/step - loss: 0.5573 - accuracy: 0.6996 - val_loss: 0.7895 - val_accuracy: 0.5122\n",
      "Epoch 121/300\n",
      "27/27 [==============================] - 0s 5ms/step - loss: 0.5467 - accuracy: 0.7056 - val_loss: 0.7965 - val_accuracy: 0.4976\n",
      "Epoch 122/300\n",
      "27/27 [==============================] - 0s 5ms/step - loss: 0.5484 - accuracy: 0.7008 - val_loss: 0.7986 - val_accuracy: 0.4927\n",
      "Epoch 123/300\n",
      "27/27 [==============================] - 0s 5ms/step - loss: 0.5454 - accuracy: 0.7068 - val_loss: 0.7945 - val_accuracy: 0.5098\n",
      "Epoch 124/300\n",
      "27/27 [==============================] - 0s 5ms/step - loss: 0.5472 - accuracy: 0.7032 - val_loss: 0.8030 - val_accuracy: 0.4902\n",
      "Epoch 125/300\n",
      "27/27 [==============================] - 0s 4ms/step - loss: 0.5463 - accuracy: 0.6985 - val_loss: 0.8012 - val_accuracy: 0.5000\n",
      "Epoch 126/300\n",
      "27/27 [==============================] - 0s 4ms/step - loss: 0.5470 - accuracy: 0.7092 - val_loss: 0.7976 - val_accuracy: 0.5220\n",
      "Epoch 127/300\n",
      "27/27 [==============================] - 0s 4ms/step - loss: 0.5401 - accuracy: 0.7139 - val_loss: 0.8114 - val_accuracy: 0.4756\n",
      "Epoch 128/300\n",
      "27/27 [==============================] - 0s 4ms/step - loss: 0.5339 - accuracy: 0.7187 - val_loss: 0.8062 - val_accuracy: 0.4951\n",
      "Epoch 129/300\n",
      "27/27 [==============================] - 0s 5ms/step - loss: 0.5336 - accuracy: 0.7151 - val_loss: 0.8220 - val_accuracy: 0.4707\n",
      "Epoch 130/300\n",
      "27/27 [==============================] - 0s 4ms/step - loss: 0.5317 - accuracy: 0.7187 - val_loss: 0.7979 - val_accuracy: 0.5146\n",
      "Epoch 131/300\n",
      "27/27 [==============================] - 0s 4ms/step - loss: 0.5247 - accuracy: 0.7211 - val_loss: 0.8126 - val_accuracy: 0.5049\n",
      "Epoch 132/300\n",
      "27/27 [==============================] - 0s 4ms/step - loss: 0.5193 - accuracy: 0.7235 - val_loss: 0.8062 - val_accuracy: 0.5024\n",
      "Epoch 133/300\n",
      "27/27 [==============================] - 0s 4ms/step - loss: 0.5206 - accuracy: 0.7247 - val_loss: 0.8136 - val_accuracy: 0.5049\n",
      "Epoch 134/300\n",
      "27/27 [==============================] - 0s 4ms/step - loss: 0.5170 - accuracy: 0.7282 - val_loss: 0.8118 - val_accuracy: 0.5073\n",
      "Epoch 135/300\n",
      "27/27 [==============================] - 0s 4ms/step - loss: 0.5147 - accuracy: 0.7294 - val_loss: 0.8220 - val_accuracy: 0.4951\n",
      "Epoch 136/300\n",
      "27/27 [==============================] - 0s 5ms/step - loss: 0.5161 - accuracy: 0.7282 - val_loss: 0.8377 - val_accuracy: 0.4829\n",
      "Epoch 137/300\n",
      "27/27 [==============================] - 0s 4ms/step - loss: 0.5112 - accuracy: 0.7342 - val_loss: 0.8197 - val_accuracy: 0.5146\n",
      "Epoch 138/300\n",
      "27/27 [==============================] - 0s 4ms/step - loss: 0.5033 - accuracy: 0.7426 - val_loss: 0.8308 - val_accuracy: 0.4829\n",
      "Epoch 139/300\n",
      "27/27 [==============================] - 0s 5ms/step - loss: 0.5043 - accuracy: 0.7378 - val_loss: 0.8281 - val_accuracy: 0.5122\n",
      "Epoch 140/300\n",
      "27/27 [==============================] - 0s 4ms/step - loss: 0.5078 - accuracy: 0.7306 - val_loss: 0.8319 - val_accuracy: 0.4951\n",
      "Epoch 141/300\n",
      "27/27 [==============================] - 0s 4ms/step - loss: 0.4960 - accuracy: 0.7473 - val_loss: 0.8462 - val_accuracy: 0.4878\n",
      "Epoch 142/300\n",
      "27/27 [==============================] - 0s 4ms/step - loss: 0.5072 - accuracy: 0.7294 - val_loss: 0.8429 - val_accuracy: 0.4829\n",
      "Epoch 143/300\n",
      "27/27 [==============================] - 0s 5ms/step - loss: 0.5050 - accuracy: 0.7378 - val_loss: 0.8429 - val_accuracy: 0.4951\n",
      "Epoch 144/300\n",
      "27/27 [==============================] - 0s 5ms/step - loss: 0.4940 - accuracy: 0.7509 - val_loss: 0.8391 - val_accuracy: 0.5244\n",
      "Epoch 145/300\n",
      "27/27 [==============================] - 0s 4ms/step - loss: 0.4930 - accuracy: 0.7378 - val_loss: 0.8370 - val_accuracy: 0.4951\n",
      "Epoch 146/300\n",
      "27/27 [==============================] - 0s 6ms/step - loss: 0.4869 - accuracy: 0.7557 - val_loss: 0.8665 - val_accuracy: 0.4951\n",
      "Epoch 147/300\n",
      "27/27 [==============================] - 0s 5ms/step - loss: 0.4861 - accuracy: 0.7509 - val_loss: 0.8576 - val_accuracy: 0.4854\n",
      "Epoch 148/300\n",
      "27/27 [==============================] - 0s 5ms/step - loss: 0.4902 - accuracy: 0.7485 - val_loss: 0.8520 - val_accuracy: 0.4780\n",
      "Epoch 149/300\n",
      "27/27 [==============================] - 0s 5ms/step - loss: 0.4788 - accuracy: 0.7521 - val_loss: 0.8581 - val_accuracy: 0.5073\n",
      "Epoch 150/300\n",
      "27/27 [==============================] - 0s 4ms/step - loss: 0.4735 - accuracy: 0.7592 - val_loss: 0.8614 - val_accuracy: 0.4976\n",
      "Epoch 151/300\n",
      "27/27 [==============================] - 0s 5ms/step - loss: 0.4757 - accuracy: 0.7580 - val_loss: 0.8617 - val_accuracy: 0.4854\n",
      "Epoch 152/300\n",
      "27/27 [==============================] - 0s 6ms/step - loss: 0.4742 - accuracy: 0.7521 - val_loss: 0.8759 - val_accuracy: 0.4780\n",
      "Epoch 153/300\n",
      "27/27 [==============================] - 0s 5ms/step - loss: 0.4721 - accuracy: 0.7509 - val_loss: 0.8740 - val_accuracy: 0.4854\n",
      "Epoch 154/300\n",
      "27/27 [==============================] - 0s 4ms/step - loss: 0.4667 - accuracy: 0.7735 - val_loss: 0.8623 - val_accuracy: 0.5024\n",
      "Epoch 155/300\n",
      "27/27 [==============================] - 0s 4ms/step - loss: 0.4774 - accuracy: 0.7414 - val_loss: 0.8665 - val_accuracy: 0.5024\n",
      "Epoch 156/300\n",
      "27/27 [==============================] - 0s 4ms/step - loss: 0.4661 - accuracy: 0.7640 - val_loss: 0.8688 - val_accuracy: 0.4780\n",
      "Epoch 157/300\n",
      "27/27 [==============================] - 0s 4ms/step - loss: 0.4621 - accuracy: 0.7664 - val_loss: 0.8781 - val_accuracy: 0.5073\n",
      "Epoch 158/300\n",
      "27/27 [==============================] - 0s 5ms/step - loss: 0.4607 - accuracy: 0.7723 - val_loss: 0.8679 - val_accuracy: 0.4951\n",
      "Epoch 159/300\n",
      "27/27 [==============================] - 0s 5ms/step - loss: 0.4537 - accuracy: 0.7580 - val_loss: 0.8906 - val_accuracy: 0.4878\n",
      "Epoch 160/300\n",
      "27/27 [==============================] - 0s 7ms/step - loss: 0.4556 - accuracy: 0.7747 - val_loss: 0.8787 - val_accuracy: 0.4878\n",
      "Epoch 161/300\n",
      "27/27 [==============================] - 0s 5ms/step - loss: 0.4546 - accuracy: 0.7664 - val_loss: 0.8890 - val_accuracy: 0.4976\n",
      "Epoch 162/300\n",
      "27/27 [==============================] - 0s 5ms/step - loss: 0.4621 - accuracy: 0.7628 - val_loss: 0.8802 - val_accuracy: 0.4780\n",
      "Epoch 163/300\n",
      "27/27 [==============================] - 0s 5ms/step - loss: 0.4491 - accuracy: 0.7723 - val_loss: 0.8916 - val_accuracy: 0.4976\n",
      "Epoch 164/300\n",
      "27/27 [==============================] - 0s 4ms/step - loss: 0.4477 - accuracy: 0.7664 - val_loss: 0.8900 - val_accuracy: 0.4976\n",
      "Epoch 165/300\n",
      "27/27 [==============================] - 0s 5ms/step - loss: 0.4437 - accuracy: 0.7771 - val_loss: 0.8955 - val_accuracy: 0.4951\n",
      "Epoch 166/300\n",
      "27/27 [==============================] - 0s 5ms/step - loss: 0.4429 - accuracy: 0.7735 - val_loss: 0.8949 - val_accuracy: 0.4927\n",
      "Epoch 167/300\n",
      "27/27 [==============================] - 0s 5ms/step - loss: 0.4355 - accuracy: 0.7759 - val_loss: 0.9126 - val_accuracy: 0.4902\n",
      "Epoch 168/300\n",
      "27/27 [==============================] - 0s 5ms/step - loss: 0.4338 - accuracy: 0.7723 - val_loss: 0.9097 - val_accuracy: 0.4829\n",
      "Epoch 169/300\n",
      "27/27 [==============================] - 0s 4ms/step - loss: 0.4309 - accuracy: 0.7831 - val_loss: 0.9096 - val_accuracy: 0.4561\n",
      "Epoch 170/300\n",
      "27/27 [==============================] - 0s 4ms/step - loss: 0.4374 - accuracy: 0.7902 - val_loss: 0.9306 - val_accuracy: 0.4780\n",
      "Epoch 171/300\n",
      "27/27 [==============================] - 0s 4ms/step - loss: 0.4366 - accuracy: 0.7807 - val_loss: 0.9090 - val_accuracy: 0.4756\n",
      "Epoch 172/300\n",
      "27/27 [==============================] - 0s 4ms/step - loss: 0.4301 - accuracy: 0.7831 - val_loss: 0.9302 - val_accuracy: 0.4951\n",
      "Epoch 173/300\n"
     ]
    },
    {
     "name": "stdout",
     "output_type": "stream",
     "text": [
      "27/27 [==============================] - 0s 4ms/step - loss: 0.4195 - accuracy: 0.7890 - val_loss: 0.9378 - val_accuracy: 0.4878\n",
      "Epoch 174/300\n",
      "27/27 [==============================] - 0s 4ms/step - loss: 0.4267 - accuracy: 0.7759 - val_loss: 0.9423 - val_accuracy: 0.4732\n",
      "Epoch 175/300\n",
      "27/27 [==============================] - 0s 4ms/step - loss: 0.4197 - accuracy: 0.7831 - val_loss: 0.9254 - val_accuracy: 0.4927\n",
      "Epoch 176/300\n",
      "27/27 [==============================] - 0s 5ms/step - loss: 0.4210 - accuracy: 0.7819 - val_loss: 0.9306 - val_accuracy: 0.4659\n",
      "Epoch 177/300\n",
      "27/27 [==============================] - 0s 5ms/step - loss: 0.4134 - accuracy: 0.7986 - val_loss: 0.9332 - val_accuracy: 0.4854\n",
      "Epoch 178/300\n",
      "27/27 [==============================] - 0s 5ms/step - loss: 0.4176 - accuracy: 0.7855 - val_loss: 0.9360 - val_accuracy: 0.4854\n",
      "Epoch 179/300\n",
      "27/27 [==============================] - 0s 5ms/step - loss: 0.4128 - accuracy: 0.7986 - val_loss: 0.9335 - val_accuracy: 0.4732\n",
      "Epoch 180/300\n",
      "27/27 [==============================] - 0s 5ms/step - loss: 0.4051 - accuracy: 0.8057 - val_loss: 0.9376 - val_accuracy: 0.4927\n",
      "Epoch 181/300\n",
      "27/27 [==============================] - 0s 7ms/step - loss: 0.4077 - accuracy: 0.7890 - val_loss: 0.9527 - val_accuracy: 0.4805\n",
      "Epoch 182/300\n",
      "27/27 [==============================] - 0s 5ms/step - loss: 0.4037 - accuracy: 0.7950 - val_loss: 0.9590 - val_accuracy: 0.4805\n",
      "Epoch 183/300\n",
      "27/27 [==============================] - 0s 5ms/step - loss: 0.3959 - accuracy: 0.8105 - val_loss: 0.9548 - val_accuracy: 0.4854\n",
      "Epoch 184/300\n",
      "27/27 [==============================] - 0s 5ms/step - loss: 0.3947 - accuracy: 0.8069 - val_loss: 0.9533 - val_accuracy: 0.4927\n",
      "Epoch 185/300\n",
      "27/27 [==============================] - 0s 5ms/step - loss: 0.3933 - accuracy: 0.8069 - val_loss: 0.9594 - val_accuracy: 0.4805\n",
      "Epoch 186/300\n",
      "27/27 [==============================] - 0s 5ms/step - loss: 0.3934 - accuracy: 0.8069 - val_loss: 0.9703 - val_accuracy: 0.4829\n",
      "Epoch 187/300\n",
      "27/27 [==============================] - 0s 5ms/step - loss: 0.3986 - accuracy: 0.7950 - val_loss: 0.9783 - val_accuracy: 0.4756\n",
      "Epoch 188/300\n",
      "27/27 [==============================] - 0s 5ms/step - loss: 0.3863 - accuracy: 0.7998 - val_loss: 0.9588 - val_accuracy: 0.5000\n",
      "Epoch 189/300\n",
      "27/27 [==============================] - 0s 5ms/step - loss: 0.3918 - accuracy: 0.8153 - val_loss: 0.9538 - val_accuracy: 0.4829\n",
      "Epoch 190/300\n",
      "27/27 [==============================] - 0s 5ms/step - loss: 0.4077 - accuracy: 0.8021 - val_loss: 0.9748 - val_accuracy: 0.4878\n",
      "Epoch 191/300\n",
      "27/27 [==============================] - 0s 5ms/step - loss: 0.3899 - accuracy: 0.8021 - val_loss: 0.9588 - val_accuracy: 0.4805\n",
      "Epoch 192/300\n",
      "27/27 [==============================] - 0s 5ms/step - loss: 0.3833 - accuracy: 0.8200 - val_loss: 0.9603 - val_accuracy: 0.4829\n",
      "Epoch 193/300\n",
      "27/27 [==============================] - 0s 5ms/step - loss: 0.3732 - accuracy: 0.8355 - val_loss: 0.9618 - val_accuracy: 0.4829\n",
      "Epoch 194/300\n",
      "27/27 [==============================] - 0s 4ms/step - loss: 0.3724 - accuracy: 0.8260 - val_loss: 0.9636 - val_accuracy: 0.5000\n",
      "Epoch 195/300\n",
      "27/27 [==============================] - 0s 5ms/step - loss: 0.3684 - accuracy: 0.8343 - val_loss: 0.9917 - val_accuracy: 0.4927\n",
      "Epoch 196/300\n",
      "27/27 [==============================] - 0s 5ms/step - loss: 0.3638 - accuracy: 0.8224 - val_loss: 0.9920 - val_accuracy: 0.4780\n",
      "Epoch 197/300\n",
      "27/27 [==============================] - 0s 5ms/step - loss: 0.3589 - accuracy: 0.8296 - val_loss: 0.9836 - val_accuracy: 0.4732\n",
      "Epoch 198/300\n",
      "27/27 [==============================] - 0s 5ms/step - loss: 0.3481 - accuracy: 0.8462 - val_loss: 1.0038 - val_accuracy: 0.5122\n",
      "Epoch 199/300\n",
      "27/27 [==============================] - 0s 5ms/step - loss: 0.3537 - accuracy: 0.8367 - val_loss: 1.0125 - val_accuracy: 0.4707\n",
      "Epoch 200/300\n",
      "27/27 [==============================] - 0s 5ms/step - loss: 0.3535 - accuracy: 0.8379 - val_loss: 0.9932 - val_accuracy: 0.4878\n",
      "Epoch 201/300\n",
      "27/27 [==============================] - 0s 4ms/step - loss: 0.3459 - accuracy: 0.8355 - val_loss: 1.0305 - val_accuracy: 0.4878\n",
      "Epoch 202/300\n",
      "27/27 [==============================] - 0s 5ms/step - loss: 0.3466 - accuracy: 0.8486 - val_loss: 1.0147 - val_accuracy: 0.5098\n",
      "Epoch 203/300\n",
      "27/27 [==============================] - 0s 5ms/step - loss: 0.3411 - accuracy: 0.8462 - val_loss: 1.0090 - val_accuracy: 0.5049\n",
      "Epoch 204/300\n",
      "27/27 [==============================] - 0s 5ms/step - loss: 0.3385 - accuracy: 0.8510 - val_loss: 1.0361 - val_accuracy: 0.4683\n",
      "Epoch 205/300\n",
      "27/27 [==============================] - 0s 5ms/step - loss: 0.3320 - accuracy: 0.8522 - val_loss: 1.0187 - val_accuracy: 0.4829\n",
      "Epoch 206/300\n",
      "27/27 [==============================] - 0s 4ms/step - loss: 0.3283 - accuracy: 0.8522 - val_loss: 1.0408 - val_accuracy: 0.4829\n",
      "Epoch 207/300\n",
      "27/27 [==============================] - 0s 5ms/step - loss: 0.3258 - accuracy: 0.8451 - val_loss: 1.0327 - val_accuracy: 0.4683\n",
      "Epoch 208/300\n",
      "27/27 [==============================] - 0s 5ms/step - loss: 0.3242 - accuracy: 0.8486 - val_loss: 1.0392 - val_accuracy: 0.4878\n",
      "Epoch 209/300\n",
      "27/27 [==============================] - 0s 5ms/step - loss: 0.3306 - accuracy: 0.8522 - val_loss: 1.0246 - val_accuracy: 0.4878\n",
      "Epoch 210/300\n",
      "27/27 [==============================] - 0s 5ms/step - loss: 0.3197 - accuracy: 0.8570 - val_loss: 1.0581 - val_accuracy: 0.4854\n",
      "Epoch 211/300\n",
      "27/27 [==============================] - 0s 5ms/step - loss: 0.3118 - accuracy: 0.8641 - val_loss: 1.0418 - val_accuracy: 0.4878\n",
      "Epoch 212/300\n",
      "27/27 [==============================] - 0s 4ms/step - loss: 0.3184 - accuracy: 0.8510 - val_loss: 1.0533 - val_accuracy: 0.5000\n",
      "Epoch 213/300\n",
      "27/27 [==============================] - 0s 5ms/step - loss: 0.3077 - accuracy: 0.8605 - val_loss: 1.0588 - val_accuracy: 0.4707\n",
      "Epoch 214/300\n",
      "27/27 [==============================] - 0s 5ms/step - loss: 0.3129 - accuracy: 0.8522 - val_loss: 1.0549 - val_accuracy: 0.4951\n",
      "Epoch 215/300\n",
      "27/27 [==============================] - 0s 5ms/step - loss: 0.3101 - accuracy: 0.8558 - val_loss: 1.0721 - val_accuracy: 0.4854\n",
      "Epoch 216/300\n",
      "27/27 [==============================] - 0s 5ms/step - loss: 0.3047 - accuracy: 0.8749 - val_loss: 1.0671 - val_accuracy: 0.4659\n",
      "Epoch 217/300\n",
      "27/27 [==============================] - 0s 5ms/step - loss: 0.2992 - accuracy: 0.8629 - val_loss: 1.0795 - val_accuracy: 0.4854\n",
      "Epoch 218/300\n",
      "27/27 [==============================] - 0s 5ms/step - loss: 0.3000 - accuracy: 0.8677 - val_loss: 1.0724 - val_accuracy: 0.5000\n",
      "Epoch 219/300\n",
      "27/27 [==============================] - 0s 4ms/step - loss: 0.2988 - accuracy: 0.8629 - val_loss: 1.0776 - val_accuracy: 0.4805\n",
      "Epoch 220/300\n",
      "27/27 [==============================] - 0s 4ms/step - loss: 0.2910 - accuracy: 0.8605 - val_loss: 1.0875 - val_accuracy: 0.4951\n",
      "Epoch 221/300\n",
      "27/27 [==============================] - 0s 5ms/step - loss: 0.2938 - accuracy: 0.8784 - val_loss: 1.0902 - val_accuracy: 0.5024\n",
      "Epoch 222/300\n",
      "27/27 [==============================] - 0s 5ms/step - loss: 0.2848 - accuracy: 0.8713 - val_loss: 1.0656 - val_accuracy: 0.4634\n",
      "Epoch 223/300\n",
      "27/27 [==============================] - 0s 4ms/step - loss: 0.2891 - accuracy: 0.8737 - val_loss: 1.0936 - val_accuracy: 0.4805\n",
      "Epoch 224/300\n",
      "27/27 [==============================] - 0s 4ms/step - loss: 0.2809 - accuracy: 0.8856 - val_loss: 1.0933 - val_accuracy: 0.4780\n",
      "Epoch 225/300\n",
      "27/27 [==============================] - 0s 5ms/step - loss: 0.2854 - accuracy: 0.8868 - val_loss: 1.0814 - val_accuracy: 0.4805\n",
      "Epoch 226/300\n",
      "27/27 [==============================] - 0s 4ms/step - loss: 0.3013 - accuracy: 0.8594 - val_loss: 1.1057 - val_accuracy: 0.4756\n",
      "Epoch 227/300\n",
      "27/27 [==============================] - 0s 5ms/step - loss: 0.2809 - accuracy: 0.8832 - val_loss: 1.1247 - val_accuracy: 0.4805\n",
      "Epoch 228/300\n",
      "27/27 [==============================] - 0s 5ms/step - loss: 0.2829 - accuracy: 0.8772 - val_loss: 1.1346 - val_accuracy: 0.4878\n",
      "Epoch 229/300\n",
      "27/27 [==============================] - 0s 4ms/step - loss: 0.2705 - accuracy: 0.8892 - val_loss: 1.1308 - val_accuracy: 0.4878\n",
      "Epoch 230/300\n"
     ]
    },
    {
     "name": "stdout",
     "output_type": "stream",
     "text": [
      "27/27 [==============================] - 0s 5ms/step - loss: 0.2722 - accuracy: 0.8868 - val_loss: 1.1302 - val_accuracy: 0.4780\n",
      "Epoch 231/300\n",
      "27/27 [==============================] - 0s 5ms/step - loss: 0.2714 - accuracy: 0.8856 - val_loss: 1.1207 - val_accuracy: 0.4854\n",
      "Epoch 232/300\n",
      "27/27 [==============================] - 0s 4ms/step - loss: 0.2756 - accuracy: 0.8808 - val_loss: 1.1464 - val_accuracy: 0.4951\n",
      "Epoch 233/300\n",
      "27/27 [==============================] - 0s 5ms/step - loss: 0.2568 - accuracy: 0.8951 - val_loss: 1.1229 - val_accuracy: 0.5146\n",
      "Epoch 234/300\n",
      "27/27 [==============================] - 0s 5ms/step - loss: 0.2561 - accuracy: 0.8939 - val_loss: 1.1211 - val_accuracy: 0.4927\n",
      "Epoch 235/300\n",
      "27/27 [==============================] - 0s 5ms/step - loss: 0.2563 - accuracy: 0.8832 - val_loss: 1.1579 - val_accuracy: 0.4780\n",
      "Epoch 236/300\n",
      "27/27 [==============================] - 0s 6ms/step - loss: 0.2454 - accuracy: 0.9082 - val_loss: 1.1502 - val_accuracy: 0.4976\n",
      "Epoch 237/300\n",
      "27/27 [==============================] - 0s 5ms/step - loss: 0.2454 - accuracy: 0.9023 - val_loss: 1.1635 - val_accuracy: 0.5000\n",
      "Epoch 238/300\n",
      "27/27 [==============================] - 0s 4ms/step - loss: 0.2401 - accuracy: 0.9106 - val_loss: 1.1802 - val_accuracy: 0.4805\n",
      "Epoch 239/300\n",
      "27/27 [==============================] - 0s 5ms/step - loss: 0.2469 - accuracy: 0.9046 - val_loss: 1.1756 - val_accuracy: 0.4780\n",
      "Epoch 240/300\n",
      "27/27 [==============================] - 0s 5ms/step - loss: 0.2427 - accuracy: 0.9023 - val_loss: 1.1781 - val_accuracy: 0.4878\n",
      "Epoch 241/300\n",
      "27/27 [==============================] - 0s 5ms/step - loss: 0.2417 - accuracy: 0.8999 - val_loss: 1.1595 - val_accuracy: 0.4805\n",
      "Epoch 242/300\n",
      "27/27 [==============================] - 0s 4ms/step - loss: 0.2390 - accuracy: 0.8963 - val_loss: 1.1823 - val_accuracy: 0.4878\n",
      "Epoch 243/300\n",
      "27/27 [==============================] - 0s 5ms/step - loss: 0.2379 - accuracy: 0.8975 - val_loss: 1.2120 - val_accuracy: 0.4805\n",
      "Epoch 244/300\n",
      "27/27 [==============================] - 0s 6ms/step - loss: 0.2275 - accuracy: 0.9130 - val_loss: 1.1879 - val_accuracy: 0.4780\n",
      "Epoch 245/300\n",
      "27/27 [==============================] - 0s 4ms/step - loss: 0.2253 - accuracy: 0.9237 - val_loss: 1.2159 - val_accuracy: 0.4756\n",
      "Epoch 246/300\n",
      "27/27 [==============================] - 0s 4ms/step - loss: 0.2218 - accuracy: 0.9142 - val_loss: 1.2050 - val_accuracy: 0.4976\n",
      "Epoch 247/300\n",
      "27/27 [==============================] - 0s 4ms/step - loss: 0.2248 - accuracy: 0.9118 - val_loss: 1.1947 - val_accuracy: 0.4585\n",
      "Epoch 248/300\n",
      "27/27 [==============================] - 0s 5ms/step - loss: 0.2242 - accuracy: 0.9130 - val_loss: 1.2213 - val_accuracy: 0.4780\n",
      "Epoch 249/300\n",
      "27/27 [==============================] - 0s 5ms/step - loss: 0.2320 - accuracy: 0.8999 - val_loss: 1.2289 - val_accuracy: 0.4756\n",
      "Epoch 250/300\n",
      "27/27 [==============================] - 0s 5ms/step - loss: 0.2269 - accuracy: 0.9023 - val_loss: 1.2109 - val_accuracy: 0.4951\n",
      "Epoch 251/300\n",
      "27/27 [==============================] - 0s 5ms/step - loss: 0.2090 - accuracy: 0.9261 - val_loss: 1.2290 - val_accuracy: 0.4707\n",
      "Epoch 252/300\n",
      "27/27 [==============================] - 0s 4ms/step - loss: 0.2280 - accuracy: 0.9070 - val_loss: 1.2514 - val_accuracy: 0.4976\n",
      "Epoch 253/300\n",
      "27/27 [==============================] - 0s 4ms/step - loss: 0.2157 - accuracy: 0.9154 - val_loss: 1.2422 - val_accuracy: 0.4878\n",
      "Epoch 254/300\n",
      "27/27 [==============================] - 0s 4ms/step - loss: 0.2007 - accuracy: 0.9321 - val_loss: 1.2272 - val_accuracy: 0.4976\n",
      "Epoch 255/300\n",
      "27/27 [==============================] - 0s 5ms/step - loss: 0.2048 - accuracy: 0.9297 - val_loss: 1.2459 - val_accuracy: 0.4683\n",
      "Epoch 256/300\n",
      "27/27 [==============================] - 0s 4ms/step - loss: 0.2081 - accuracy: 0.9237 - val_loss: 1.2306 - val_accuracy: 0.4805\n",
      "Epoch 257/300\n",
      "27/27 [==============================] - 0s 5ms/step - loss: 0.2038 - accuracy: 0.9178 - val_loss: 1.2464 - val_accuracy: 0.4780\n",
      "Epoch 258/300\n",
      "27/27 [==============================] - 0s 4ms/step - loss: 0.2075 - accuracy: 0.9225 - val_loss: 1.2514 - val_accuracy: 0.4927\n",
      "Epoch 259/300\n",
      "27/27 [==============================] - 0s 5ms/step - loss: 0.2099 - accuracy: 0.9166 - val_loss: 1.2770 - val_accuracy: 0.4707\n",
      "Epoch 260/300\n",
      "27/27 [==============================] - 0s 5ms/step - loss: 0.2083 - accuracy: 0.9154 - val_loss: 1.2922 - val_accuracy: 0.4854\n",
      "Epoch 261/300\n",
      "27/27 [==============================] - 0s 5ms/step - loss: 0.1981 - accuracy: 0.9261 - val_loss: 1.2830 - val_accuracy: 0.4976\n",
      "Epoch 262/300\n",
      "27/27 [==============================] - 0s 5ms/step - loss: 0.1963 - accuracy: 0.9237 - val_loss: 1.2698 - val_accuracy: 0.4878\n",
      "Epoch 263/300\n",
      "27/27 [==============================] - 0s 5ms/step - loss: 0.1874 - accuracy: 0.9297 - val_loss: 1.2816 - val_accuracy: 0.4927\n",
      "Epoch 264/300\n",
      "27/27 [==============================] - 0s 5ms/step - loss: 0.1834 - accuracy: 0.9356 - val_loss: 1.3069 - val_accuracy: 0.4805\n",
      "Epoch 265/300\n",
      "27/27 [==============================] - 0s 5ms/step - loss: 0.1823 - accuracy: 0.9333 - val_loss: 1.3282 - val_accuracy: 0.4707\n",
      "Epoch 266/300\n",
      "27/27 [==============================] - 0s 5ms/step - loss: 0.1826 - accuracy: 0.9321 - val_loss: 1.3597 - val_accuracy: 0.5000\n",
      "Epoch 267/300\n",
      "27/27 [==============================] - 0s 5ms/step - loss: 0.1903 - accuracy: 0.9321 - val_loss: 1.3193 - val_accuracy: 0.4756\n",
      "Epoch 268/300\n",
      "27/27 [==============================] - 0s 4ms/step - loss: 0.1772 - accuracy: 0.9309 - val_loss: 1.3304 - val_accuracy: 0.4805\n",
      "Epoch 269/300\n",
      "27/27 [==============================] - 0s 5ms/step - loss: 0.1909 - accuracy: 0.9261 - val_loss: 1.3436 - val_accuracy: 0.4854\n",
      "Epoch 270/300\n",
      "27/27 [==============================] - 0s 5ms/step - loss: 0.1918 - accuracy: 0.9237 - val_loss: 1.3444 - val_accuracy: 0.5073\n",
      "Epoch 271/300\n",
      "27/27 [==============================] - 0s 5ms/step - loss: 0.1726 - accuracy: 0.9452 - val_loss: 1.3065 - val_accuracy: 0.4951\n",
      "Epoch 272/300\n",
      "27/27 [==============================] - 0s 5ms/step - loss: 0.1736 - accuracy: 0.9476 - val_loss: 1.3277 - val_accuracy: 0.4976\n",
      "Epoch 273/300\n",
      "27/27 [==============================] - 0s 5ms/step - loss: 0.1657 - accuracy: 0.9476 - val_loss: 1.3737 - val_accuracy: 0.4683\n",
      "Epoch 274/300\n",
      "27/27 [==============================] - 0s 5ms/step - loss: 0.1648 - accuracy: 0.9428 - val_loss: 1.3699 - val_accuracy: 0.4878\n",
      "Epoch 275/300\n",
      "27/27 [==============================] - 0s 5ms/step - loss: 0.1639 - accuracy: 0.9416 - val_loss: 1.3727 - val_accuracy: 0.4780\n",
      "Epoch 276/300\n",
      "27/27 [==============================] - 0s 4ms/step - loss: 0.1804 - accuracy: 0.9297 - val_loss: 1.3907 - val_accuracy: 0.4854\n",
      "Epoch 277/300\n",
      "27/27 [==============================] - 0s 5ms/step - loss: 0.1789 - accuracy: 0.9356 - val_loss: 1.3692 - val_accuracy: 0.4854\n",
      "Epoch 278/300\n",
      "27/27 [==============================] - 0s 5ms/step - loss: 0.1666 - accuracy: 0.9416 - val_loss: 1.3723 - val_accuracy: 0.4927\n",
      "Epoch 279/300\n",
      "27/27 [==============================] - 0s 5ms/step - loss: 0.1877 - accuracy: 0.9309 - val_loss: 1.3636 - val_accuracy: 0.4902\n",
      "Epoch 280/300\n",
      "27/27 [==============================] - 0s 4ms/step - loss: 0.1771 - accuracy: 0.9225 - val_loss: 1.3673 - val_accuracy: 0.4902\n",
      "Epoch 281/300\n",
      "27/27 [==============================] - 0s 4ms/step - loss: 0.1683 - accuracy: 0.9464 - val_loss: 1.4004 - val_accuracy: 0.4756\n",
      "Epoch 282/300\n",
      "27/27 [==============================] - 0s 5ms/step - loss: 0.1621 - accuracy: 0.9440 - val_loss: 1.3915 - val_accuracy: 0.4829\n",
      "Epoch 283/300\n",
      "27/27 [==============================] - 0s 5ms/step - loss: 0.1540 - accuracy: 0.9440 - val_loss: 1.4171 - val_accuracy: 0.4829\n",
      "Epoch 284/300\n",
      "27/27 [==============================] - 0s 5ms/step - loss: 0.1519 - accuracy: 0.9487 - val_loss: 1.4305 - val_accuracy: 0.4780\n",
      "Epoch 285/300\n",
      "27/27 [==============================] - 0s 5ms/step - loss: 0.1494 - accuracy: 0.9440 - val_loss: 1.4367 - val_accuracy: 0.4927\n",
      "Epoch 286/300\n",
      "27/27 [==============================] - 0s 4ms/step - loss: 0.1545 - accuracy: 0.9499 - val_loss: 1.4333 - val_accuracy: 0.4902\n",
      "Epoch 287/300\n"
     ]
    },
    {
     "name": "stdout",
     "output_type": "stream",
     "text": [
      "27/27 [==============================] - 0s 5ms/step - loss: 0.1433 - accuracy: 0.9487 - val_loss: 1.4417 - val_accuracy: 0.4829\n",
      "Epoch 288/300\n",
      "27/27 [==============================] - 0s 5ms/step - loss: 0.1402 - accuracy: 0.9523 - val_loss: 1.4386 - val_accuracy: 0.4829\n",
      "Epoch 289/300\n",
      "27/27 [==============================] - 0s 4ms/step - loss: 0.1443 - accuracy: 0.9535 - val_loss: 1.4614 - val_accuracy: 0.4512\n",
      "Epoch 290/300\n",
      "27/27 [==============================] - 0s 5ms/step - loss: 0.1396 - accuracy: 0.9547 - val_loss: 1.4634 - val_accuracy: 0.4805\n",
      "Epoch 291/300\n",
      "27/27 [==============================] - 0s 4ms/step - loss: 0.1352 - accuracy: 0.9547 - val_loss: 1.5088 - val_accuracy: 0.4829\n",
      "Epoch 292/300\n",
      "27/27 [==============================] - 0s 4ms/step - loss: 0.1563 - accuracy: 0.9440 - val_loss: 1.4377 - val_accuracy: 0.5000\n",
      "Epoch 293/300\n",
      "27/27 [==============================] - 0s 4ms/step - loss: 0.1690 - accuracy: 0.9309 - val_loss: 1.4593 - val_accuracy: 0.4951\n",
      "Epoch 294/300\n",
      "27/27 [==============================] - 0s 5ms/step - loss: 0.1562 - accuracy: 0.9404 - val_loss: 1.5472 - val_accuracy: 0.4610\n",
      "Epoch 295/300\n",
      "27/27 [==============================] - 0s 5ms/step - loss: 0.1370 - accuracy: 0.9547 - val_loss: 1.4613 - val_accuracy: 0.5024\n",
      "Epoch 296/300\n",
      "27/27 [==============================] - 0s 5ms/step - loss: 0.1350 - accuracy: 0.9476 - val_loss: 1.4889 - val_accuracy: 0.5000\n",
      "Epoch 297/300\n",
      "27/27 [==============================] - 0s 5ms/step - loss: 0.1330 - accuracy: 0.9535 - val_loss: 1.5020 - val_accuracy: 0.4585\n",
      "Epoch 298/300\n",
      "27/27 [==============================] - 0s 5ms/step - loss: 0.1335 - accuracy: 0.9535 - val_loss: 1.4811 - val_accuracy: 0.4927\n",
      "Epoch 299/300\n",
      "27/27 [==============================] - 0s 5ms/step - loss: 0.1311 - accuracy: 0.9559 - val_loss: 1.5092 - val_accuracy: 0.4829\n",
      "Epoch 300/300\n",
      "27/27 [==============================] - 0s 5ms/step - loss: 0.1236 - accuracy: 0.9595 - val_loss: 1.5149 - val_accuracy: 0.4902\n"
     ]
    }
   ],
   "source": [
    "# train the RNN\n",
    "r = model.fit(\n",
    "    X_train, Y_train,\n",
    "    batch_size=32,\n",
    "    epochs=300,\n",
    "    validation_data=(X_test, Y_test),\n",
    ")"
   ]
  },
  {
   "cell_type": "code",
   "execution_count": 42,
   "metadata": {
    "colab": {
     "base_uri": "https://localhost:8080/",
     "height": 265
    },
    "colab_type": "code",
    "id": "34IV0Y6Hhvny",
    "outputId": "dd5029c1-f6d4-4f5a-d195-e69f8b6a7173"
   },
   "outputs": [
    {
     "data": {
      "image/png": "[encoded data removed]",
      "text/plain": [
       "<Figure size 432x288 with 1 Axes>"
      ]
     },
     "metadata": {
      "needs_background": "light"
     },
     "output_type": "display_data"
    }
   ],
   "source": [
    "# plot the loss\n",
    "plt.plot(r.history['loss'], label='loss')\n",
    "plt.plot(r.history['val_loss'], label='val_loss')\n",
    "plt.legend()\n",
    "plt.show()"
   ]
  },
  {
   "cell_type": "code",
   "execution_count": 43,
   "metadata": {
    "colab": {
     "base_uri": "https://localhost:8080/",
     "height": 265
    },
    "colab_type": "code",
    "id": "63A_TQskh_O1",
    "outputId": "09da96ca-da9d-4c16-ae66-524b37eae619"
   },
   "outputs": [
    {
     "data": {
      "image/png": "[encoded data removed]",
      "text/plain": [
       "<Figure size 432x288 with 1 Axes>"
      ]
     },
     "metadata": {
      "needs_background": "light"
     },
     "output_type": "display_data"
    }
   ],
   "source": [
    "# plot the accuracy\n",
    "plt.plot(r.history['accuracy'], label='accuracy')\n",
    "plt.plot(r.history['val_accuracy'], label='val_accuracy')\n",
    "plt.legend()\n",
    "plt.show()"
   ]
  },
  {
   "cell_type": "code",
   "execution_count": null,
   "metadata": {},
   "outputs": [],
   "source": []
  }
 ],
 "metadata": {
  "colab": {
   "collapsed_sections": [],
   "name": "TF2.0 Stock Returns.ipynb",
   "provenance": []
  },
  "kernelspec": {
   "display_name": "Python 3 (ipykernel)",
   "language": "python",
   "name": "python3"
  },
  "language_info": {
   "codemirror_mode": {
    "name": "ipython",
    "version": 3
   },
   "file_extension": ".py",
   "mimetype": "text/x-python",
   "name": "python",
   "nbconvert_exporter": "python",
   "pygments_lexer": "ipython3",
   "version": "3.8.12"
  }
 },
 "nbformat": 4,
 "nbformat_minor": 1
}
